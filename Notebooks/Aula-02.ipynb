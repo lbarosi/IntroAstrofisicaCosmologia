{
 "cells": [
  {
   "cell_type": "markdown",
   "metadata": {
    "ExecuteTime": {
     "end_time": "2020-03-12T12:36:05.756401Z",
     "start_time": "2020-03-12T12:36:05.751553Z"
    }
   },
   "source": [
    "<p><img src=\"../IMAGES/Logo-UFCG.png\" width=\"80\" ></p>\n",
    "\n",
    "# Introdução à Astrofísica e Cosmologia\n",
    "\n",
    "## Aula 03: Radiação Eletromagnética\n",
    "\n",
    "**Luciano Barosi**"
   ]
  },
  {
   "cell_type": "markdown",
   "metadata": {},
   "source": [
    "## Equações de Maxwell"
   ]
  },
  {
   "cell_type": "markdown",
   "metadata": {},
   "source": [
    "    Observamos o universo por intermédio de radiações eletromagnéticas. Inicialmente apenas com a luz, desde o século XX começamos a usar cada vez maior número de faixas de freqência, com telescópios  e radiotelescópios localizados na Terra ou no Espaço.\n",
    "    \n",
    "    James Clerck Maxwell, em 1865, demonstra teoricamente que a luz é um fenômeno eletromagnético que viaja com uma velocidade fixa que pode ser obtida por meio de medidas elétricas e magnéticas na matéria.\n",
    "    \n",
    "    Para fazer isto Maxwell reescreveu o conhecimento da época em termos do cálculo vetorial e pode obter uma equação de onda."
   ]
  },
  {
   "cell_type": "code",
   "execution_count": 1,
   "metadata": {
    "ExecuteTime": {
     "end_time": "2020-03-20T13:50:32-03:00",
     "start_time": "2020-03-20T16:50:32.742Z"
    }
   },
   "outputs": [],
   "source": [
    "eqsM = Inactivate[{\n",
    "    gaussE = Div[\\[ScriptCapitalE][x, y, z, t], {x, y, z}] == \\[Rho][x, y, z,t],\n",
    "    gaussB = Div[\\[ScriptCapitalB][x, y, z, t], {x, y, z}] == 0,\n",
    "    faraday = Curl[\\[ScriptCapitalE][x, y, z, t], {x, y, z}] == -D[\\[ScriptCapitalB][x, y, z, t], t], \n",
    "   ampere = Curl[\\[ScriptCapitalB][x, y, z, t], {x, y, z}] ==  \\[Mu] j[x, y, z, t] + D[\\[ScriptCapitalE][x, y, z, t], t]}, \n",
    "  Div | Curl | D];"
   ]
  },
  {
   "cell_type": "code",
   "execution_count": 2,
   "metadata": {
    "ExecuteTime": {
     "end_time": "2020-03-20T13:50:33-03:00",
     "start_time": "2020-03-20T16:50:32.746Z"
    }
   },
   "outputs": [
    {
     "data": {
      "text/html": [
       "<div><img alt=\"Output\" src=\"data:image/png;base64,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\"></div>"
      ],
      "text/plain": [
       "Inactive[Div][ℰ[x, y, z, t], {x, y, z}] == ρ[x, y, z, t]\n",
       "\n",
       "Inactive[Div][ℬ[x, y, z, t], {x, y, z}] == 0\n",
       "\n",
       "Inactive[Curl][ℰ[x, y, z, t], {x, y, z}] == -Inactive[D][ℬ[x, y, z, t], t]\n",
       "\n",
       "Inactive[Curl][ℬ[x, y, z, t], {x, y, z}] == \n",
       " \n",
       ">    μ j[x, y, z, t] + Inactive[D][ℰ[x, y, z, t], t]"
      ]
     },
     "execution_count": 2,
     "metadata": {
      "text/html": [],
      "text/plain": []
     },
     "output_type": "execute_result"
    }
   ],
   "source": [
    "Grid[Transpose[{eqsM}]]"
   ]
  },
  {
   "cell_type": "markdown",
   "metadata": {},
   "source": [
    "As equações acima são as equações de Maxwell, cada uma delas tem um conteúdo físico de extrema validade:\n",
    "1. A primeira equação é a **Lei de Gauss**, que determina como as cargas elétricas geram campos elétricos no espaço, sendo equivalente a Lei de Coulomb para uma particula pontual.\n",
    "2. A segunda equação é a **Lei de Gauss para o Magnetismo** que indica que não existe um monopolo magnético.\n",
    "3. A equação 3 é a **Lei de Faraday** que mostra como uma variação de um campo magnético pode produzir um campo elétrico e, portanto, corrente em um fio. Todas as aplicações da corrente alternada que vemos em nosso dia a dia é uma aplicação desta lei.\n",
    "4. A 4 equação é a **Lei de Ampere-Maxwell** que descreve as correntes como fontes de campo magnético. Maxwell introduziu o termo com a derivada temporal por razões de conservação de energia. Este termo, que indica que variações de campo elétrico também produzem campo magnético é crucial para a existência de uma onda eletromagnética.\n",
    "\n",
    "Considerando o espaço vazio, veremos que existe uma configuração não-trivial que é solução destas equações. Esta solução é formada por um campo elétrico oscilante no espaço que produz um campo magnético oscilante no espaço que por sua vez restaura o campo elétrico no espaço.... a solução de propagação de uma onda eletromagnética.\n",
    "\n",
    "Se aplicarmos o rotacional na Lei de Ampere e utilizarmos a Lei de Faraday teremos:"
   ]
  },
  {
   "cell_type": "code",
   "execution_count": 3,
   "metadata": {
    "ExecuteTime": {
     "end_time": "2020-03-20T13:50:33-03:00",
     "start_time": "2020-03-20T16:50:32.755Z"
    }
   },
   "outputs": [
    {
     "data": {
      "text/html": [
       "<style>\n",
       "\t\t\t\t\t\t\t\t\t\t\t\t\t.grid-container {\n",
       "\t\t\t\t\t\t\t\t\t\t\t\t\t\tdisplay: inline-grid;\n",
       "\t\t\t\t\t\t\t\t\t\t\t\t\t\tgrid-template-columns: auto;\n",
       "\t\t\t\t\t\t\t\t\t\t\t\t\t}\n",
       "\t\t\t\t\t\t\t\t\t\t\t\t</style>\n",
       "\n",
       "\t\t\t\t\t\t\t\t\t\t\t\t<div><div class=\"grid-container\"><div class=\"grid-item\"><img alt=\"Output\" src=\"data:image/png;base64,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\"></div><div class=\"grid-item\"><img alt=\"Output\" src=\"data:image/png;base64,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\"></div><div class=\"grid-item\"><img alt=\"Output\" src=\"data:image/png;base64,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\"></div></div></div>"
      ],
      "text/plain": [
       "Inactive[Curl][Inactive[Curl][ℬ[x, y, z, t], {x, y, z}], {x, y, z}] == \n",
       " \n",
       ">   Inactive[Curl][Inactive[D][ℰ[x, y, z, t], t], {x, y, z}]\n",
       "Inactive[Curl][Inactive[Curl][ℬ[x, y, z, t], {x, y, z}], {x, y, z}] == \n",
       " \n",
       ">   Inactive[D][Inactive[Curl][ℰ[x, y, z, t], {x, y, z}], t]\n",
       "Inactive[Curl][Inactive[Curl][ℬ[x, y, z, t], {x, y, z}], {x, y, z}] == \n",
       " \n",
       ">   Inactive[D][-Inactive[D][ℬ[x, y, z, t], t], t]"
      ]
     },
     "execution_count": 3,
     "metadata": {
      "text/html": [],
      "text/plain": []
     },
     "output_type": "execute_result"
    }
   ],
   "source": [
    "Inactive[Curl][#, {x, y, z}] & /@ ampere /. j -> (0 &)\n",
    "% /. Inactivate[Curl[D[v_, t_], x_] :> D[Curl[v, x], t]]\n",
    "% /. Solve[faraday, \n",
    "   Inactive[Curl][\\[ScriptCapitalE][x, y, z, t], {x, y, z}]][[1]] "
   ]
  },
  {
   "cell_type": "code",
   "execution_count": 6,
   "metadata": {
    "ExecuteTime": {
     "end_time": "2020-03-20T13:50:33-03:00",
     "start_time": "2020-03-20T16:50:32.757Z"
    }
   },
   "outputs": [
    {
     "data": {
      "text/html": [
       "<div><img alt=\"Output\" src=\"data:image/png;base64,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\"></div>"
      ],
      "text/plain": [
       " (0,0,2,0)                (0,2,0,0)                (2,0,0,0)\n",
       "ℬ         [x, y, z, t] + ℬ         [x, y, z, t] + ℬ         [x, y, z, t] == \n",
       " \n",
       "      (0,0,0,2)\n",
       ">   -ℬ         [x, y, z, t]"
      ]
     },
     "execution_count": 6,
     "metadata": {
      "text/html": [],
      "text/plain": []
     },
     "output_type": "execute_result"
    }
   ],
   "source": [
    "wave = Activate[%]"
   ]
  },
  {
   "cell_type": "code",
   "execution_count": 7,
   "metadata": {
    "ExecuteTime": {
     "end_time": "2020-03-20T13:50:33-03:00",
     "start_time": "2020-03-20T16:50:32.761Z"
    }
   },
   "outputs": [
    {
     "data": {
      "text/html": [
       "<div>&#36;&#36;&#92;&#109;&#97;&#116;&#104;&#99;&#97;&#108;&#123;&#66;&#125;&#94;&#123;&#40;&#48;&#44;&#48;&#44;&#50;&#44;&#48;&#41;&#125;&#40;&#120;&#44;&#121;&#44;&#122;&#44;&#116;&#41;&#43;&#92;&#109;&#97;&#116;&#104;&#99;&#97;&#108;&#123;&#66;&#125;&#94;&#123;&#40;&#48;&#44;&#50;&#44;&#48;&#44;&#48;&#41;&#125;&#40;&#120;&#44;&#121;&#44;&#122;&#44;&#116;&#41;&#43;&#92;&#109;&#97;&#116;&#104;&#99;&#97;&#108;&#123;&#66;&#125;&#94;&#123;&#40;&#50;&#44;&#48;&#44;&#48;&#44;&#48;&#41;&#92;&#10;&#32;&#10;&#62;&#32;&#32;&#32;&#125;&#40;&#120;&#44;&#121;&#44;&#122;&#44;&#116;&#41;&#61;&#45;&#92;&#109;&#97;&#116;&#104;&#99;&#97;&#108;&#123;&#66;&#125;&#94;&#123;&#40;&#48;&#44;&#48;&#44;&#48;&#44;&#50;&#41;&#125;&#40;&#120;&#44;&#121;&#44;&#122;&#44;&#116;&#41;&#36;&#36;</div>"
      ],
      "text/plain": [
       "\\mathcal{B}^{(0,0,2,0)}(x,y,z,t)+\\mathcal{B}^{(0,2,0,0)}(x,y,z,t)+\\mathcal{B}^{(2,0,0,0)\\\n",
       " \n",
       ">   }(x,y,z,t)=-\\mathcal{B}^{(0,0,0,2)}(x,y,z,t)"
      ]
     },
     "execution_count": 7,
     "metadata": {
      "text/html": [],
      "text/plain": []
     },
     "output_type": "execute_result"
    }
   ],
   "source": [
    "%//TraditionalForm//TeXForm"
   ]
  },
  {
   "cell_type": "markdown",
   "metadata": {},
   "source": [
    "A expressão acima para o campo $\\vec B$ é a aplicação do operador Dalembertiano, ou seja, a equação acima é uma equação de onda. Na equação acima consideramos as constantes $\\epsilon_0$ e $\\mu_0$ iguais a 1. Se re-inserimos as constantes podemos ver que:\n",
    "$$\\frac{1}{c^2} \\frac{\\partial^2 \\vec B}{\\partial\\; t^2} = \\Delta \\vec B .$$\n",
    "\n",
    "Podemos mostrar analogamente que o campo elétrico satisfaz equação semelhante:\n",
    "$$\\frac{1}{c^2} \\frac{\\partial^2 \\vec E}{\\partial\\; t^2} = \\Delta \\vec E .$$\n",
    "\n",
    "w estamos fazendo a identificação da velocidade $C$ com a velocidade da luz que é ada por:\n",
    "$$ c = \\frac{1}{\\sqrt{\\epsilon_0 \\mu_0}} $$"
   ]
  },
  {
   "cell_type": "markdown",
   "metadata": {},
   "source": [
    "A Partir daí não é difícil mostrar que podemos escrever uma solução de onda plana monocromática como:\n",
    "$$\\vec E(\\vec r, t) = \\tilde E_0 e^{i(\\vec k \\cdot \\vec r - \\omega t)}\\hat n $$\n",
    "$$\\vec B(\\vec r, t) = \\frac{\\tilde E_0}{c} e^{i(\\vec k \\cdot \\vec r - \\omega t)} (\\hat k \\times \\hat n) = \\frac{1}{c} \\hat k \\times \\vec E $$\n",
    "\n",
    "As equações de Gauss mostram que a onda eletromagnética é **transversal**, a lei de Ampere-Maxwell determina a relação entre as amplitudes do Campo Magnético e Campo Elétrico e o fato de serem perpendiculares entre si. O vetor $\\hat n$ indica a **polarização**, para a qual existe duas escolhas independentes. (Os campos devem se mover apenas no plano perpendicular a direção de propagação)."
   ]
  },
  {
   "cell_type": "markdown",
   "metadata": {},
   "source": [
    "## Radiação de Corpo Negro"
   ]
  },
  {
   "cell_type": "markdown",
   "metadata": {},
   "source": [
    "Um corpo perfeitamente opaco, não refletivo, em equilíbrio térmico com o ambiente produz radiação eletromagnética de espectro contínuo, chamada de **radiação térmica** ou **radiação de corpo negro**.\n",
    "\n",
    "Podemos estudar esta radiação, produzida pela interação da matéria, utilizando os métodos da mecânica estatística. Para fazer isto consideramos uma construção de corpo negro que é construída como sendo uma cavidade cúbica de lado L, perfeitamente refletora em seu interior e perfeitamente absorvedora em seu interior, com um orifício bem pequeno por onde ela emite radiação térmica."
   ]
  },
  {
   "cell_type": "code",
   "execution_count": 8,
   "metadata": {
    "ExecuteTime": {
     "end_time": "2020-03-20T13:50:34-03:00",
     "start_time": "2020-03-20T16:50:32.792Z"
    }
   },
   "outputs": [],
   "source": [
    "Symbolize[Subscript[k, B]];\n",
    "Symbolize[Subscript[n, x_]];\n",
    "Symbolize[Subscript[\\[Mu], x_]];\n",
    "Symbolize[Subscript[\\[Lambda], x_]];\n",
    "Symbolize[Subscript[T, x_]];\n",
    "Symbolize[Subscript[\\[Sigma], x_]];\n",
    "Symbolize[Subsuperscript[\\[ScriptCapitalZ], 1, x_]];\n",
    "Symbolize[Subsuperscript[\\[ScriptCapitalG], 1, x_]];\n",
    "Symbolize[Subsuperscript[S, 1, x_]];\n",
    "Symbolize[Overscript[n, _]];\n",
    "Symbolize[Overscript[Subscript[n, x_], _]];"
   ]
  },
  {
   "cell_type": "code",
   "execution_count": 19,
   "metadata": {
    "ExecuteTime": {
     "end_time": "2020-03-20T13:50:36-03:00",
     "start_time": "2020-03-20T16:50:32.795Z"
    }
   },
   "outputs": [
    {
     "data": {
      "text/html": [
       "<div><img alt=\"Output\" src=\"data:image/png;base64,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\"></div>"
      ],
      "text/plain": [
       "{k  ->            1380649                              , \n",
       "  B    ------------------------------ joules per kelvin\n",
       "       100000000000000000000000000000\n",
       " \n",
       ">   ℏ ->                   132521403                                }\n",
       "         --------------------------------------------- second joules\n",
       "         400000000000000000000000000000000000000000 Pi"
      ]
     },
     "execution_count": 19,
     "metadata": {
      "text/html": [],
      "text/plain": []
     },
     "output_type": "execute_result"
    }
   ],
   "source": [
    "subs = {Subscript[k, B] -> Entity[\"PhysicalConstant\", \"BoltzmannConstant\"][\"Value\"], \n",
    "       \\[HBar] -> Entity[\"PhysicalConstant\", \"PlanckConstant\"][\"Value\"]/(2 Pi)}"
   ]
  },
  {
   "cell_type": "code",
   "execution_count": 20,
   "metadata": {
    "ExecuteTime": {
     "end_time": "2020-03-20T13:50:36-03:00",
     "start_time": "2020-03-20T16:50:32.797Z"
    }
   },
   "outputs": [],
   "source": [
    "MyAssumptions={k>0, L>0,m>0,V>0,g>0,Subscript[k, B]>0,n_>0,Overscript[n, _]>0,T>0,\\[HBar]>0,\\[Lambda]>0,\\[Beta]>0,\\[ScriptCapitalN]>0};\n",
    "MySimplify=Simplify[#,MyAssumptions]&;\n",
    "MyFullSimplify=FullSimplify[#,MyAssumptions]&;"
   ]
  },
  {
   "cell_type": "code",
   "execution_count": 23,
   "metadata": {
    "ExecuteTime": {
     "end_time": "2020-03-20T13:50:36-03:00",
     "start_time": "2020-03-20T16:50:32.799Z"
    }
   },
   "outputs": [],
   "source": [
    "\\[Beta]ToT = {\\[Beta]->1/(Subscript[k, B]T)};\n",
    "\\[Omega]Toy = {\\[Omega]->(Subscript[k, B]T y)/\\[HBar] ,\\[Beta]->1/(Subscript[k, B]T)};\n",
    "\\[Omega]To\\[Lambda] = {\\[Omega]->(2\\[Pi] c)/\\[Lambda],\\[Beta]->1/(Subscript[k, B]T)};"
   ]
  },
  {
   "cell_type": "code",
   "execution_count": 26,
   "metadata": {
    "ExecuteTime": {
     "end_time": "2020-03-20T13:50:36-03:00",
     "start_time": "2020-03-20T16:50:32.803Z"
    }
   },
   "outputs": [
    {
     "data": {
      "text/html": [
       "<style>\n",
       "\t\t\t\t\t\t\t\t\t\t\t\t\t.grid-container {\n",
       "\t\t\t\t\t\t\t\t\t\t\t\t\t\tdisplay: inline-grid;\n",
       "\t\t\t\t\t\t\t\t\t\t\t\t\t\tgrid-template-columns: auto;\n",
       "\t\t\t\t\t\t\t\t\t\t\t\t\t}\n",
       "\t\t\t\t\t\t\t\t\t\t\t\t</style>\n",
       "\n",
       "\t\t\t\t\t\t\t\t\t\t\t\t<div><div class=\"grid-container\"><div class=\"grid-item\">&#36;&#36;&#92;&#108;&#101;&#102;&#116;&#92;&#123;&#92;&#98;&#101;&#116;&#97;&#32;&#92;&#116;&#111;&#32;&#92;&#102;&#114;&#97;&#99;&#123;&#49;&#125;&#123;&#84;&#32;&#107;&#95;&#66;&#125;&#92;&#114;&#105;&#103;&#104;&#116;&#92;&#125;&#36;&#36;</div><div class=\"grid-item\">&#36;&#36;&#92;&#108;&#101;&#102;&#116;&#92;&#123;&#92;&#111;&#109;&#101;&#103;&#97;&#32;&#92;&#116;&#111;&#32;&#92;&#102;&#114;&#97;&#99;&#123;&#84;&#32;&#121;&#32;&#107;&#95;&#66;&#125;&#123;&#92;&#104;&#98;&#97;&#114;&#32;&#125;&#44;&#92;&#98;&#101;&#116;&#97;&#32;&#92;&#116;&#111;&#32;&#92;&#102;&#114;&#97;&#99;&#123;&#49;&#125;&#123;&#84;&#32;&#107;&#95;&#66;&#125;&#92;&#114;&#105;&#103;&#104;&#116;&#92;&#125;&#36;&#36;</div><div class=\"grid-item\">&#36;&#36;&#92;&#108;&#101;&#102;&#116;&#92;&#123;&#92;&#111;&#109;&#101;&#103;&#97;&#32;&#92;&#116;&#111;&#32;&#92;&#102;&#114;&#97;&#99;&#123;&#50;&#32;&#99;&#32;&#92;&#112;&#105;&#32;&#125;&#123;&#92;&#108;&#97;&#109;&#98;&#100;&#97;&#32;&#125;&#44;&#92;&#98;&#101;&#116;&#97;&#32;&#92;&#116;&#111;&#32;&#92;&#102;&#114;&#97;&#99;&#123;&#49;&#125;&#123;&#84;&#32;&#107;&#95;&#66;&#125;&#92;&#114;&#105;&#103;&#104;&#116;&#92;&#125;&#36;&#36;</div></div></div>"
      ],
      "text/plain": [
       "\\left\\{\\beta \\to \\frac{1}{T k_B}\\right\\}\n",
       "\\left\\{\\omega \\to \\frac{T y k_B}{\\hbar },\\beta \\to \\frac{1}{T k_B}\\right\\}\n",
       "\\left\\{\\omega \\to \\frac{2 c \\pi }{\\lambda },\\beta \\to \\frac{1}{T k_B}\\right\\}"
      ]
     },
     "execution_count": 26,
     "metadata": {
      "text/html": [],
      "text/plain": []
     },
     "output_type": "execute_result"
    }
   ],
   "source": [
    "TeXForm@StandardForm@\\[Beta]ToT\n",
    "TeXForm@StandardForm@\\[Omega]Toy\n",
    "TeXForm@StandardForm@\\[Omega]To\\[Lambda]"
   ]
  },
  {
   "cell_type": "code",
   "execution_count": 29,
   "metadata": {
    "ExecuteTime": {
     "end_time": "2020-03-20T13:50:36-03:00",
     "start_time": "2020-03-20T16:50:32.805Z"
    }
   },
   "outputs": [
    {
     "data": {
      "text/html": [
       "<style>\n",
       "\t\t\t\t\t\t\t\t\t\t\t\t\t.grid-container {\n",
       "\t\t\t\t\t\t\t\t\t\t\t\t\t\tdisplay: inline-grid;\n",
       "\t\t\t\t\t\t\t\t\t\t\t\t\t\tgrid-template-columns: auto;\n",
       "\t\t\t\t\t\t\t\t\t\t\t\t\t}\n",
       "\t\t\t\t\t\t\t\t\t\t\t\t</style>\n",
       "\n",
       "\t\t\t\t\t\t\t\t\t\t\t\t<div><div class=\"grid-container\"><div class=\"grid-item\"><img alt=\"Output\" src=\"data:image/png;base64,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\"></div><div class=\"grid-item\"><img alt=\"Output\" src=\"data:image/png;base64,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\"></div></div></div>"
      ],
      "text/plain": [
       "        2   2     2   2     2   2\n",
       " 2    n1  Pi    n2  Pi    n3  Pi\n",
       "k  == ------- + ------- + -------\n",
       "         2         2         2\n",
       "        L         L         L\n",
       "               2   2     2   2     2   2\n",
       "          2  n1  Pi    n2  Pi    n3  Pi\n",
       "         L  (------- + ------- + -------)\n",
       " 2  2           2         2         2\n",
       "k  L           L         L         L\n",
       "----- == --------------------------------\n",
       "   2                     2\n",
       " Pi                    Pi"
      ]
     },
     "execution_count": 29,
     "metadata": {
      "text/html": [],
      "text/plain": []
     },
     "output_type": "execute_result"
    }
   ],
   "source": [
    "eq1 = k^2 == kx^2 + ky^2 + kz^2 /.{kx->n1 Pi/L, ky->n2 Pi/L, kz->n3 Pi/L }\n",
    "eq1 = Assuming[L>0, MultiplySides[eq1, L^2/Pi^2]]"
   ]
  },
  {
   "cell_type": "code",
   "execution_count": 31,
   "metadata": {
    "ExecuteTime": {
     "end_time": "2020-03-20T13:50:36-03:00",
     "start_time": "2020-03-20T16:50:32.807Z"
    }
   },
   "outputs": [
    {
     "data": {
      "text/html": [
       "<style>\n",
       "\t\t\t\t\t\t\t\t\t\t\t\t\t.grid-container {\n",
       "\t\t\t\t\t\t\t\t\t\t\t\t\t\tdisplay: inline-grid;\n",
       "\t\t\t\t\t\t\t\t\t\t\t\t\t\tgrid-template-columns: auto;\n",
       "\t\t\t\t\t\t\t\t\t\t\t\t\t}\n",
       "\t\t\t\t\t\t\t\t\t\t\t\t</style>\n",
       "\n",
       "\t\t\t\t\t\t\t\t\t\t\t\t<div><div class=\"grid-container\"><div class=\"grid-item\"><img alt=\"Output\" src=\"data:image/png;base64,iVBORw0KGgoAAAANSUhEUgAAABsAAAAmCAIAAAC6UndxAAAAhXpUWHRSYXcgcHJvZmlsZSB0eXBlIGV4aWYAAHjaVYvBDcMwDAP/mqIjyLJM2uMYiQNkg45fuu0n9yApgbT1vi97felp2dgxABc5csRU6P6juNciDXn+X9MfZGWgoRhTluEkhnJXkqKFN+LCAahYcIbnIV8gNQN3o86928QyPusLVffpbh/5eCey76LuBgAAAAlwSFlzAAALEwAACxMBAJqcGAAAADx0RVh0U29mdHdhcmUAQ3JlYXRlZCB3aXRoIHRoZSBXb2xmcmFtIExhbmd1YWdlIDogd3d3LndvbGZyYW0uY29tXKKmhQAAACF0RVh0Q3JlYXRpb24gVGltZQAyMDIwOjAzOjIwIDEzOjUwOjM2d1WcDwAAAV9JREFUSInt1rGrgkAcB/C7x1sb2gKxxSkUgiBadBAyKGwo0CVHh/4IB/8CZ8FJ9B8IRP8Ax5BclLC1wU2C9muQ5+P1ehbqW8Lv9DvxPtwPPO8gQgg0mo+iUlVVkqQmxRdzPp8hhNfrtTHxaR6Lh8MBx3Hf9yuIn78fhWG4XC4ty2IYpgExDMPpdGrbNsuyFThw1/XxeOR5HsOw/X5fjQN3a4yiaLfbkSQ5Go1YlqVpuu4a1+v1bDbDMEzX9c1mk2VZXRFCmBer1Wo+n8uy/Ne0TqcDv7Ldbn8g/7gLW/Hdxe89oyhKZUUQhOFwmNft99iK7y0+OF2L2LadpqnjODzPAwBc110sFqIo9vv9MhKVJk1TTdMQQqfTyTCM8pfzPOna8zyO4wAASZIMBoNXun4iBkFAURQA4HK5dLvduqJhGMX9jyCIOI5riaZp9nq9yWSSD8fjcRAEr4jt36yZ3AAyArLIKHxixgAAAABJRU5ErkJggg==\"></div><div class=\"grid-item\"><img alt=\"Output\" src=\"data:image/png;base64,iVBORw0KGgoAAAANSUhEUgAAACsAAAArCAIAAABuP+aXAAAAhXpUWHRSYXcgcHJvZmlsZSB0eXBlIGV4aWYAAHjaVYvBDcMwDAP/mqIjyLJM2uMYiQNkg45fuu0n9yApgbT1vi97felp2dgxABc5csRU6P6juNciDXn+X9MfZGWgoRhTluEkhnJXkqKFN+LCAahYcIbnIV8gNQN3o86928QyPusLVffpbh/5eCey76LuBgAAAAlwSFlzAAALEwAACxMBAJqcGAAAADx0RVh0U29mdHdhcmUAQ3JlYXRlZCB3aXRoIHRoZSBXb2xmcmFtIExhbmd1YWdlIDogd3d3LndvbGZyYW0uY29tXKKmhQAAACF0RVh0Q3JlYXRpb24gVGltZQAyMDIwOjAzOjIwIDEzOjUwOjM2d1WcDwAAAuFJREFUWIXtl01IKlEUx8/YC6RyEW2KIVsIaYyWDEkQbqQaMCRLMAhbiYtW0aqVGOJCCKplwbQJJGsRMhG6CRe2lEkhlKiNWcSIQUbWSpu3GCJMi7mj2Pvwv7rDuefc3z33zP3AeJ6HH5VMTKft7W29Xk8QhM/nQ4rO8/zGxoZGo9HpdAsLC6+vr1IIisViPp9nWTaZTJ6enp6fn4snwDBscHAwlUpdXFx0dnbu7+/XxhSvlZWVUCiE5CKoUChQFBWLxapNCASlUokkyfv7e9ThnU6nXC5fX1+vaf0gWFtbczgc3wTy+Xxerxd1eEEPDw+zs7PBYLDaJKoSAeDw8DAej7vd7q863N3dYRhWLBZrWnt6epaXl4+OjqpNogiOj49pmg4GgzKZWGJBNzc3W1tbb29vABAOhwmCEEuQSCT6+/vPzs4AIJPJ2O32bDY7Pj6u1+tdLpd4AhzHc7nc8PCwVqvlOG51dbVGp+o6SCQSOI5Ho1Gklb69vQWA5+dn1BL59QkomUxOTk4GAgGTySR+rvWoYhUuLy8tFguO4/F4vDnDA0BFDlKpFMMwBEGQJGkymYxGYxMIKnJgs9koisJxfGdnx+FwPD4+NpsAwzChMTc3ZzabkcpekEKhwN61tLQkxgXj/4rTuUXQIvgPCD72xG/O/obLbrePjIwI7dZ+8I8QSH7PNIagnvdMYwi6uro8Hk9bW1t7eztJktlsFjkE6rXuK0l+zzSsEv1+v9Vq7evr+5kcHBwczMzMlMtlCb4NIGAYZmJi4uXlRZp7vXtiJpNRq9UDAwMdHR0AMDo6uru7ixRBLEEgEOA47uTkxGKxAEA4HJ6enp6fn1cqlRK4KyQ+XRzHbW5u8jx/fX1N07S0nFcL4V+IRCJTU1MAcHV1NTQ0VO/U34VAwLKsVqsFgKenp+7u7mYT0DS9uLgotFUqVTqdbirB3t5eb2/v2NiY8GkwGFiWbRRB64byJxD8BsZNp1CbfHikAAAAAElFTkSuQmCC\"></div><div class=\"grid-item\"><img alt=\"Output\" src=\"data:image/png;base64,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\"></div></div></div>"
      ],
      "text/plain": [
       "k L\n",
       "---\n",
       "Pi\n",
       " 2  3\n",
       "k  L\n",
       "-----\n",
       "   2\n",
       " Pi\n",
       "                   3  2\n",
       "                  L  ω\n",
       "Inactive[g][ω] == ------\n",
       "                   3   2\n",
       "                  c  Pi"
      ]
     },
     "execution_count": 31,
     "metadata": {
      "text/html": [],
      "text/plain": []
     },
     "output_type": "execute_result"
    }
   ],
   "source": [
    "R = (Sqrt[eq1[[1]]]//MySimplify)\n",
    "V[R_] := 4/3 Pi R^3\n",
    "gk[k_] := 2 D[V[R],k]/8\n",
    "k[x_] := x/c\n",
    "gk[k]\n",
    "g[y_] :=(gk[k] D[k[x],x]) /. k-> k[y]\n",
    "Inactivate[g[\\[Omega]]] == g[\\[Omega]]"
   ]
  },
  {
   "cell_type": "markdown",
   "metadata": {},
   "source": [
    "Do ponto de vista da mecânica clássica, cada modo possível do sistema carrega uma energia média $k_B T$, de forma que a intensidade espectral da radiação de corpo negro no regime clássico é dado pelo modelo de Rayleigh-Jeans:"
   ]
  },
  {
   "cell_type": "code",
   "execution_count": 38,
   "metadata": {
    "ExecuteTime": {
     "end_time": "2020-03-20T13:50:36-03:00",
     "start_time": "2020-03-20T16:50:32.815Z"
    }
   },
   "outputs": [
    {
     "data": {
      "text/html": [
       "<style>\n",
       "\t\t\t\t\t\t\t\t\t\t\t\t\t.grid-container {\n",
       "\t\t\t\t\t\t\t\t\t\t\t\t\t\tdisplay: inline-grid;\n",
       "\t\t\t\t\t\t\t\t\t\t\t\t\t\tgrid-template-columns: auto;\n",
       "\t\t\t\t\t\t\t\t\t\t\t\t\t}\n",
       "\t\t\t\t\t\t\t\t\t\t\t\t</style>\n",
       "\n",
       "\t\t\t\t\t\t\t\t\t\t\t\t<div><div class=\"grid-container\"><div class=\"grid-item\"><img alt=\"Output\" src=\"data:image/png;base64,iVBORw0KGgoAAAANSUhEUgAAADYAAAArCAIAAAC8b+zPAAAAhXpUWHRSYXcgcHJvZmlsZSB0eXBlIGV4aWYAAHjaVYvBDcMwDAP/mqIjyLJM2uMYiQNkg45fuu0n9yApgbT1vi97felp2dgxABc5csRU6P6juNciDXn+X9MfZGWgoRhTluEkhnJXkqKFN+LCAahYcIbnIV8gNQN3o86928QyPusLVffpbh/5eCey76LuBgAAAAlwSFlzAAALEwAACxMBAJqcGAAAADx0RVh0U29mdHdhcmUAQ3JlYXRlZCB3aXRoIHRoZSBXb2xmcmFtIExhbmd1YWdlIDogd3d3LndvbGZyYW0uY29tXKKmhQAAACF0RVh0Q3JlYXRpb24gVGltZQAyMDIwOjAzOjIwIDEzOjUwOjM2d1WcDwAABGpJREFUWIXtWG0oe18cP/e3eVj2wuKFh0YUmy5tJikhy7YXHjYWIt54eMEr3vFCWCtKGaWQCUVDou7S5GmEQmtMWok8bCJsrVZGzHZ/L+7/77//z6+5927q/+Dz6txzvt/P+ZzzPefc7zkQiqLgn40ffmEZGhricrkwDMvlcr8QesIPEh8fHy0Wi16vNxgMa2trBwcHvnN6wg8S6XR6e3s7hUIJCAjg8Xhms9l3Tk/4J9AYXC7X1tZWRkaGHzmBfyV2d3dLJJLIyMjftnZ2dlZXV5Og/UPi2NgYlUqlUqkUCgWCIKzM5XLxE83Ozup0ura2NhIiPgH6d4yPj6elpaEEgSBIXl6ew+HwYtPR0VFVVUWUGUVRXwONoujV1VVZWZnZbM7MzORyufX19Z96HR4eMpnM7e1tPF1QCQl6eHhQqVTNzc3vPZnNZolE8vLygp/EYDAUFRVNTk5mZ2fjsSc2iwqForGx8f0zNTVVr9cTYjAYDAKBYHR0lM/nYzVsNpvL5fJ4PKFQeHNz45PE8/NzJpMZFBQEAJDJZFil0+nEz3ByclJYWBgdHa3T6TzrsQM/Pz9/YGDgoxeBQG9sbAiFQgCAyWSKiYnB9FEoFPwMRqMRQRAYhnk8Hp/Pz8rK8my9v79nMpk+SXx+fqbRaACAhYUFGIYBACqVSiKR4GeQSqUikQgAMDw8XFVVZTAYGAwGAEAikVitVjqdvrq66pNEsVjc1dUVHx8fFxeHIMje3l5oaGh6ejp+BgiCsEJJScny8nJ9ff38/DwAAEGQ8PDwlZUVqVS6ubn5qxuJg8q/YLFYFosFK0dERHw08OcP0Edsbm5iS/wXEDsXvwgCgQCCIDqdPjY29rEVQv8nWfeX4luiP/DXdvmSVI8sysrKOBwOVv7eLv7Af1EiiqK9vb1sNjslJaWysvLp6YkoA9F3AcISIQhKTEw0Go3Hx8chISEqlYqQO4l3ATKBLioqolAodrv9+vqaxWIR8iXzLkAuPamtrQ0ODu7p6SGZ3qDo29sbj8e7vb391JJ8Mma1WouLi6enp8m5y+VymUyGx9KnfFGr1ZaWlpJwnJmZEYvFLpcLjzHhtWgymfr6+txuNwBAo9FgNwRCUKvVSqVyenr6xw98vXsfwe7urkgkCgsLYzAYDQ0Ndrvd6XS2tLTAMAzDcHV1tfcXiI+4vLwMDAxMSEjgcDgcDqeuru5TF28/QL1en5ub29/fX1FR8fr6Ojg4WFNTExUVhWfkU1NTd3d3i4uLhYWFAACNRpOfn19eXv7bvJr8LBYUFDQ1NRGaJE/c3d0pFAoURc/OzpRKJWkeb6vh4uIiNTWV8KD/xNLSEnbvPj09TUpKIs3jTWJsbOzR0RFpar1en5ycDACw2+3YfZkkvMzwzs4OjUYbHx93OBw2m62vr0+r1eKMzsjIyN7eHlbe39+fm5sjHehPdvT6+npOTg6DwQgLC2toaLDZbHhIJyYm1Gr1+6fb7W5tbSUt8Tul9Qf+BRJ/AnXMgU8Jf00iAAAAAElFTkSuQmCC\"></div><div class=\"grid-item\"><img alt=\"Output\" src=\"data:image/png;base64,iVBORw0KGgoAAAANSUhEUgAAADsAAAAmCAIAAAD1D3ShAAAAhXpUWHRSYXcgcHJvZmlsZSB0eXBlIGV4aWYAAHjaVYvBDcMwDAP/mqIjyLJM2uMYiQNkg45fuu0n9yApgbT1vi97felp2dgxABc5csRU6P6juNciDXn+X9MfZGWgoRhTluEkhnJXkqKFN+LCAahYcIbnIV8gNQN3o86928QyPusLVffpbh/5eCey76LuBgAAAAlwSFlzAAALEwAACxMBAJqcGAAAADx0RVh0U29mdHdhcmUAQ3JlYXRlZCB3aXRoIHRoZSBXb2xmcmFtIExhbmd1YWdlIDogd3d3LndvbGZyYW0uY29tXKKmhQAAACF0RVh0Q3JlYXRpb24gVGltZQAyMDIwOjAzOjIwIDEzOjUwOjM2d1WcDwAAA6tJREFUWIXtmE1IKl0Yx884CgUulCSEQVtoTUZf0ocSVEQqZEYkTGC6ighXgbSVatciKKgW9sFoNCuhRREmWBRlEJRaQZGhIOIiiZBaRR/MXcy91W3s3vfVM/S+4H/1zHOe85yfz8x55jgITdPgfyXedy08MTFhs9lymPgb8fT0dFVVlVKpbGtrOzs7yw2FJEk+n8/n81EURRCEsevr63PLlkX0L/n9fpVKlclkaJr2er04jtP5ye12NzQ0fDU6Pj5utVpzSPte43g8rlarRSIRAIAgiGQy+fz8DK0wf1QkEpHJZAcHB/8kmP9mEQSxsLBAUdTAwMDa2prdbhcIBJ+iKYq6ubnZ3Nw0mUwAAJ/PZzQa+/v75XJ5zrinp6c9PT2rq6utra3/jlgsFhsMBpfLNTU1dXd3t7+/z4622WzpdBpFUYfDEYvFRCLR0NBQzqwMrk6noyiqo6OD8VRWVhYVFfF4vJKSEo/Hg2HYpynvT8Xg4KBEIgkGgycnJ06ns6WlJZlMstfY2trS6/UAgOvra5VKlQ/u1dWVyWTCMOz4+Pijf3t7OxwOG43Gubk59qyfxDRNe73e4eFhAIBAILDb7bW1tX6/nz0hFApVV1cDAO7v78VicT7EFxcXJEn6fL75+flgMPhpNJ1Oy2SyL4kRBGlsbJyZmXl5eQEARKPR8/NzdktaWlp6a6IKheLy8jIfYrPZbDAYMAxzuVxWqzWTyTD+3t5eHMcDgYDFYvmSGADg9Xrj8TiO4+Xl5RaLZXZ2trm5+WPoysqKVCrVaDTMZVNTUygUyocYQRDG6Ovr6+rqetsS6+vr0Wh0cnLSbDZnmZZ7v+VGOI7f3t4ytlQqZQd821v6r9rb28vaNPls17dLp9MhCCIUCkmSZI8idOHsxrUKxNzrfec5nc5v5PizCIKoq6tj7MLO414FYpZIkpRIJBATckucSqU8Hk9paSnMpJwea4xG49HRkVKphJiTwxovLi7W1NRoNBoabjuC+Os/KpFIaLXax8dHmqYVCgXEzFzVmKKoh4eH9vZ2rVabSqW0Wu3r6yuUzHDeIIeHh7u7u0KhcGRkhMf7XAWlUhmLxfJf5acg3q9wOLy8vMz2/3efCrVanfW/KswCw+3HkUgkEAhATJhV0Iifnp7cbnd3dzfXX+ugETudztHRUblcnkgkYOXMKjjELpdLr9eXlZV1dnZubGxAyfmV8iXe2dlxOBzFxcXMx7iKigoURcfGxmCwZVfhRM+9fgCTpnBQZUc3ywAAAABJRU5ErkJggg==\"></div></div></div>"
      ],
      "text/plain": [
       "   2\n",
       "T ω  k\n",
       "      B\n",
       "-------\n",
       " 3   2\n",
       "c  Pi\n",
       "8 Pi T k\n",
       "        B\n",
       "---------\n",
       "    4\n",
       "   λ"
      ]
     },
     "execution_count": 38,
     "metadata": {
      "text/html": [],
      "text/plain": []
     },
     "output_type": "execute_result"
    }
   ],
   "source": [
    "Subscript[\\[ScriptCapitalI], RJ][\\[Omega]] =  Subscript[k, B]T g[\\[Omega]] /V /. V-> L^3\n",
    "Irj[\\[Lambda]]=Subscript[\\[ScriptCapitalI], RJ][\\[Omega]] \\[Omega]/\\[Lambda]/.\\[Omega]To\\[Lambda]"
   ]
  },
  {
   "cell_type": "code",
   "execution_count": 40,
   "metadata": {
    "ExecuteTime": {
     "end_time": "2020-03-20T13:50:37-03:00",
     "start_time": "2020-03-20T16:50:32.817Z"
    }
   },
   "outputs": [
    {
     "data": {
      "text/html": [
       "<div><img alt=\"Output\" src=\"data:image/png;base64,iVBORw0KGgoAAAANSUhEUgAAAWgAAADYCAIAAABJOu5DAAAAhXpUWHRSYXcgcHJvZmlsZSB0eXBlIGV4aWYAAHjaVYvBDcMwDAP/mqIjyLJM2uMYiQNkg45fuu0n9yApgbT1vi97felp2dgxABc5csRU6P6juNciDXn+X9MfZGWgoRhTluEkhnJXkqKFN+LCAahYcIbnIV8gNQN3o86928QyPusLVffpbh/5eCey76LuBgAAAAlwSFlzAAALEwAACxMBAJqcGAAAADx0RVh0U29mdHdhcmUAQ3JlYXRlZCB3aXRoIHRoZSBXb2xmcmFtIExhbmd1YWdlIDogd3d3LndvbGZyYW0uY29tXKKmhQAAACF0RVh0Q3JlYXRpb24gVGltZQAyMDIwOjAzOjIwIDEzOjUwOjM3AFKsmQAAGmdJREFUeJzt3Xt0FOd5BvB3Znb2ppV2V3cJSYACBkkIZGEQAmMXQhPqgMMxoViEOM0xMaWkPambNMdcbIpPiDGQSxvHJThurJCS2qlPqR1CkS+AsSxMJK6yZLDQInRfSbtaaXe1l9npHyMvMiyExWhmZ/f5HY68mr3o/RB+zvfNvDPDiKJIAADRYKN69fr169evXz9OpQCAWkQXHES0d+/e8agDAFQk6uAAANBI/xkZGXnuueeefPLJlJQUIjp06FBdXR0RFRUVrV69mmWRLwBwjYaIbDZbdXV1b2+vtOnSpUunT5/eunUrx3EvvPBCXV3d/PnzFS0SAGILS0QnTpyoqqqyWCzSJrPZXFVVxfM8y7J5eXkul0vRCgEg5rBEtHbt2qlTp4Y3ZWZmFhYWEpHD4Th58mRZWZli1QFATNLc7Ine3t4XXnhh1apV2dnZY7eHD8fi8ApAwoocHDabbd++fWvWrCkpKbnuKeQFAEQ4XOJyufbu3bt+/fobU0NmrZ2Dx05fVbYGALhRhBlHTU2N0+ncvXu39O3ixYtXrFghb1Wj3jvT/vafrlSW5mo1nCIFAEBE14Jjx44d0oOVK1euXLlSoXo+w5KsI6LBIV+G1ah0LQBwTUx3dllT9ETkGPIpXQgAfEZsB4dJCo4RpQsBgM+I6eCQlipOBAdAjIk6OOQ8rd6ajKUKQCyK6dPqjQae17CYcQDEmpheqjBElmQ99nEAxJqYDg4isibrsFQBiDWxHhwWk945NILLogLElFgPDmuK3hcQRnxBpQsBgGtiPjiSdYRWDoAYE+vBYUnWE5ETuzkAYklM93HQtVYOzDgAYkhM93EQlioAMUkdSxWHC8EBEENiPTh0PJek5wcQHACxJNaDg4isKXoEB0BMUUFwpJn1Ay6v0lUAwDUqCI7UFIPL7Q8KIaULAYBRqggOPRFhtQIQO2K9j4OI0swGIhoYxGoFIFbEeh8HEaWl6ImoHzMOgJihgqWKNOPox4wDIGaoIDisKXoGwQEQS0aDY2RkZNu2beEb09fW1j799NObN29+7733lKttlIZjzSZd/yCWKgCxQkNENputurq6t7dX2tTf3/+HP/xh8+bNLMvu3LnznnvuycrKUrRISjMbMOMAiB0sEZ04caKqqspisUibGhsbS0pKjEajXq8vLy9vaGhQtEKiT4MD1wEDiBEaIlq7du3YTYODg+EQMZvN7e3tCtT1WWlmvS8geLyBJAOvdC0AEOmm06FQiONGb/IsiiLLfmYHariPQ87jsuEDKwgOgFgQITisVmtHR4f02OVyhWcfEvn7OOjT4LA7vQXZKfL/dAC4ToTDscXFxRcuXHC73T6fr6GhYcaMGfKXdZ10i4GI+pwepQsBAKKIM4709PRly5Y9//zzwWBw0aJFeXl58pd1nQyLkYjsThxYAYgJ14Jjx44d4ceVlZWVlZVK1BOZQadJMvB2zDgAYoMKOkclGRaj3YHgAIgJ6gkOq8HuRCsHQExQT3BYjP6AMOT2K10IAKjhehyST/ePYrUCoDwVXI9DkmGVWjkQHADKU9NShYj6HDgiC6A81QRHusXAYMYBEBtUExwajrUk69EDBhALVBMcJB2RRSsHQAxQVXBYjP2DXiGEZg4AhakqOKxGISTiBtQAilNNHwcRZaUaiagXqxUApammj4OIsqxJhOAAiAFqWqpkSjOOAbfShQAkOjUFh8moNer57gHMOAAUpqbgYIiyUo09mHEAKE1NwUFE2alJPQNuUcQRWQAlqSw4stKSAsGQY8indCEACU1lwZGdlkRE3f1YrQAoSU19HESUnYrgAFCemvo46NMesG7sHwVQlMqWKkY9n2zUdvUNK10IQEKLcF8VInrnnXeOHz8uiuLs2bMffvhhmWu6tdx0UxeWKgCKijDjcDgcR44ceeqpp7Zu3Xr69OnLly/LX9Yt5KSb+hwef1BQuhCAxBUhOEKhkCAIgUBAEIRQKMTzsXWf59yMJBH7RwEUFWGpkpaWtmDBgk2bNrEsW1ZWlp+fL39Zt5CbbiKizr7hgizcgBpAGRFmHC0tLR999NGPfvSjnTt3DgwM1NXVyV/WLUjB0WXHjANAMRFmHE1NTaWlpUlJSURUUVFx8eLFefPmhZ8N93EodVw21WzQ8VxH35AiPx0AKGJw5OfnHzp0aOnSpRzHnT9/fvr06WOfVbaPg4gYopx0U6cdR2QBFBMhOGbNmtXW1rZ9+3aWZYuKih544AH5y7q13HTTycZOISRyLKN0LQCJKHIfx/Lly5cvXy5zKbcvN8MkhES7wyOdugIAMlNZ56gkfGBF6UIAEpQ6gyPDRETYzQGgFFUGR6bVqOHY9l4cWAFQhiqDg2OZ3HRTux3BAaAMlV2PI2xChqmrz427ugEoQmXX4wjLy0wOCiHcKgFAEapcqhBRXmYyEV3Fbg4AJag1OPKzkomorduldCEAiUitwZFqNiTp+bYezDgAFKDW4GCI8rNTrvZgxgGgALUGBxEVZCUPuEaGPH6lCwFIOGoOjuwUIurA/lEA2am1j4OIJmWbiciG/aMAslNrHwcR5WaYeA1r6xxUuhCAhKPipQrHMvlZKZhxAMhPxcFBRJNyUrr7hkf8uFUCgKzUHhxmEW1gALJTfXAQ0ZVu7OYAkJW6g2NChknDsa3YPwogL3UHh4Zj8zKTERwAMlNxH4dkcq65q294xB9UuhCABKLiPg7J5FyzSIRuDgA5qXupQkSFuRYiuozgAJBR5PuqNDY2Hjx40OfzTZ8+/dFHH2WY2L3vUW6GSctzLR1OpQsBSCARZhxOp7O6unr9+vXPPPNMV1fXuXPn5C/r9nEsUzjB8km7E1cfBZBNhBnHuXPnysrK0tLSiGjdunUaTeRZSeyYkmdptvX3D3rTzQalawFICBFCwW63MwyzZ8+egYGBe++9d+XKlfKXFZWpeVYi+qTdgeAAkEeEpYogCI2NjY8//vjTTz/d3t5eW1srf1lRmZJvIaKLVxxKFwKQKCLMOMxm87Rp0ywWCxHNnj37ypUrCxYsCD8b7uOIneOyJoM2J9106SqCA0AmEYKjtLT0xRdfdLvdBoOhsbGxtLR07LOxkxdjTStIPdbQ5hkJGPW80rUAxL8IwZGbm7ts2bJdu3YFg8Hi4uLKykr5y4rWtInWow1tl646Z03NULoWgPgX+YhJRUVFRUWFzKV8HtMKUonoYtsAggNABqrvHJWkmQ1pZsPFqwNKFwKQEOIkOIhoWkHq5Y7BQDCkdCEA8S+OgmOiNSiEWtpxbAVg3Kn+tPqwaRPTiKjJhtUKwLhT/Wn1YdlpSRaT7iNbn9KFAMS/+FmqMETFk9Nb2p2+AC56DjC+4ic4iKikME0IiRevYLUCML7iLDjSiejCZaxWAMZXXAWHNVk/IcOE4AAYb3EVHEQ0ozCjvXdowDWidCEA8SzegmPmlAwiOt9iV7oQgHgWP30ckmkTU7U8d/YSggNgHMVPH4eE17BFk9IaL9uDAnrPAcZLvC1ViGjmlIwRv3CxDb3nAOMlDoNDOrP+zMVepQsBiFtxGBwZFmNeZnLDxR7cMAFgnMRhcBBR+bQsu8PTaR9WuhCA+BS3wUFE9c3dShcCEJ/iMzgm5ZpTU/T1zT1KFwIQn+Ktj0PCEN1XlG3rGrQ7PUrXAhCH4q2PI2xucQ4RfdjYpXQhAHEoPpcqRDQlz5Kaoq9DcACMg7gNDoZhKkpy27pdXf1upWsBiDe3Co7q6urXX39dtlLuuoqSHCI6eaFT6UIA4s1Ng+P06dNnz56Vs5S7blKuOSvVWHehE51gAHdX5OBwOp1Hjhz50pe+JHM1dxdDNL90Qle/29Y5qHQtAHElQnCIolhdXb169WqtVit/QXfX/JkTiOi9M+1KFwIQVyLcO7ampqawsHDSpEmtra03Phvu41DFcdlMq3H6xNS6xs41Xy7ScHG7JxhAZhGC49SpUw6H49ixY36/XxRFQRBWrVoVflYVeTHWwrK8fQfPnWrqrpyRq3QtAHEiQnBs3rxZevDuu+86HI5HHnlE3pLusjnFOfsPf3S0vg3BAXC3xP/sXcdzC2ZOaL4y0NmHk2UB7o5bBceiRYvUPt2QLJpdQERH668qXQhAnIj/GQcR5WUm31NgPX7mqh93hwS4GxIiOIho8eyJXl+w9jy6SAHugkQJjjnF2RaT7sjJVnSRAnx+8Xk9jhtpOHbJ3Ekd9uELuFcTwOcWt9fjuNHi2QVannvz/ctKFwKgeomyVCGiJAP/4L35zbb+lnan0rUAqFsCBQcRPTS/kGOZ/z3xidKFAKhbYgVHaor+/ll5Zy72tnW7lK4FQMUSKziIaNn9X2AY5n+OX1K6EAAVS7jgyLQaF86aUN/cY+vCRToA7lDCBQcRffXBqRqOfe2dj5UuBECtEqWPY6x0s+GLcyZeaOm70NKndC0AqpRAfRxjPbzwC0Y9f6CmKSSilRQgaom4VCEik0H71QemtPcOHT+NqwoCRC1Bg4OIlsyZmJVqfPXtZvdIQOlaAFQmcYNDw7Frl5a4vYFX32pWuhYAlUnc4CCimVMy7ivKPtpw9dJVh9K1AKhJQgcHEa1dWmzQaV5+43wgGFK6FgDVSPTgsCbr13y5uLNv+H+OoZcU4HYlYh/HdRaW5c0oTP/D+y2ftGPBAnBbErSPYyyG6PGHZ+p1mhdfP+P1BZUuB0AFEn2pIklN0f/Nshl9Tu/Lb5xHQxjAnxXhhkxEdOjQobq6OiIqKipavXo1y8Z/vswryf3ocv+x01eL69Ok2ykAwM1ESIRLly6dPn1669at27Zt6+vrkxIkEaz9q+KCrJTf/LHxcgcuEQZwKxGCw2w2V1VV8TzPsmxeXp7LlSjXvNFquO+sKtdpNT/9r3rn0IjS5QDErgjBkZmZWVhYSEQOh+PkyZNlZWWyV6WYrFTjxq/d63L79/znn0b8uHsTQGQ33XnR29v705/+dNWqVdnZ2XIWpLgZhemPPVTS1uP6+e8bhBB2lQJEwIiRziu32Wz79u1bs2ZNSUnJ2O1jmzji77jsWL+raf7jB5fvn5W37uFShmGULgcgtkQ4quJyufbu3bthw4aCgggHF+I7L8JWL5nmcvtOnG3X8dw3HipBcgCMFSE4ampqnE7n7t27pW8XL168YsUKeatSHsMwjz880xcQ3v7TFZZlvr60GNkBEBZ5qXIz69evT5AZhyQohH7x32fqm7sXzy547KESrFkAJPHf2fV5aDh249funVuc805927+/fjYo4AxaAKKbdY5CGMcyf/tImVHPH21oc7p9//DX5Ul6XumiABSGGcefx7HM3yyb8chf3NNs63/2V7Xd/W6lKwJQGILjtjBEX31gyoZHyuxO7zP73q9v7lG6IgAl4XocUZg3I3fLtyqNes2/vlp/4EgTdnlAwsL1OKIzOde8/Yn7Z07JOFzXuv1XtV19w0pXBKAALFWilmzUPll135ovF3XYh7fsPfHHDy7jrk6QaBAcd4JhmC9XTN7+xP0F2Sm/q2ne/qta3MIaEgqC485NyDBt+Vbl6iXTO3qHn9n3/n+8ecHl9itdFIAc0MfxuXAs89D8wrnFOb97q+loQ9sH5zseXjjlSxWTtDyndGkA4wjBcRekWwzf+Vr5R639B2qaXnvn4yMnbV+5v3Dx7Im8BhM6iE/4l33XFE9O2/7tBRseKTPoNf/5f03/9K/vvvl+iwc3poV4FPVJbpTwR2T/LCEknmzsfOO9ls6+YR3PLZg5YcncSRMyTErXBXDX4OzY8SKK4tlL9sN1rU22fiKaPilt0ez8+6ZnazjM8kD1sI9jvDAMU3ZPZtk9mR324Xfr206cbX/xv/uNer6iJGd+6YSp+RacpA/qhRmHTHwB4WRj1/tn25uvDBCRNVl/X1H2nOLsqflWFgkCaoMZh0x0PPdAWd4DZXkDrpEPLnSe+qir5kNbzYc2k0E7a2rGrKmZMwrTkww4YR/UAcEht9QU/VfmF35lfmHfoLe+qbvh454Pzne+f66DiCblmIsnpxVPTpuan6rXohMEYheWKsrz+oKNl/vOt/Q12fp6BjxExDLMxJyUKXnWKfmWL0ywpFuMWMxATMGMQ3kGnea+ouz7irKJqG/Q29Ta/3HbwKWrjpoPbTUfEhElG7WTc80Ts1MmZpsLslMyrQbsWAVloY8jdg15/C3tzpYO5+UOZ2vXoNs72kum5bncdNOEDFN+VkpuelJOuinNbOBYRAnIB0sVdRCJ+ge9bd2uth5XR+9wh32oq88dPp2fY5kMqzEr1ZhpTcpKNaabDRlWY5rZYNBhRgnjAv+w1IEhSjcb0s2G8mlZ0pagEOrud3f2DfcMeDrtw70OT2vn4NlL9rHvMur5NLM+zWywJutTU/TWZL3FpDMn68wmXYpRi/UO3DEEh1ppODYvMzkvM3nsRq8vaHd47E6P3entH/T2D470D3pb2p1DnuvP92cZJsWkS0nSpiRpk43aFKPOZOSTjdokA28yaE0GPsnAJxm0Oi2HdIEbxW5wxOuyaFzHZdBpCrJTCrJTrtseFELOYZ/DNeIc8jmHR5zDvsEhn9PtG3L7O+3DLrf/ZtdP5VjGqOeNeo1Rzxt0n/mq12oMutE/Oi334x8+9S87fqzXcjqtRstzcbPPBf8OI5IjOOT8q7+znyXnu+7M56xQw7HSSifiy0Qinz845PG7vYFhT+Dfnt+8at0mtzcw7PV7R4IeX8AzEvSMBOwOr2fE5fEFI+4X0xP94IVj4W81HKvTcjqe0/Kclh99wGtYrWb0Aa9heQ339qs/Xv7YP/Maluc4XsNqNCzPsbyG1XCjj8NfNdzoH45j/n7j3/373r3RJpOKfl8yvOtzit0ZB8iGIdJrNXqtJsMyumXJnIk3e7FI5A8IXl/Q6wuO+IJeX9DrC/gCwis/P/joXxb5/EFfQBjxB31+wRcQ/AHBHxB8AcEzEnAO+fwBwR8U/AFBCI1Gj57otbc/jrZgPdG3th/iOJZjmdGvn33ASg9Y6QWM9C0R/dtrDSzDcOzoFpZlpcej3zIMwxDLMgxz7TERHa5rZRhiGYZlmfDX61/JSI9HNxLRhct90kNG+krhl41uYRmGPn0jw5CUgz0DHpYh+vT10keNvoXGbpceknS+wog/SDT6IczoS+nax47D3iwEB0SHIdLxnI7nLCbd2O2vEP1V5eTb/JCQKAaCIX9A+N4/Hnz+Ow8GgqGgEJK+BoOhgBAKCjdsCYaEkCgIoaAgHnudHrg3PyiEQiFRGP0TEgRRCEmvGf3W5w9ID0KiGAqJRNRk6w+FROldoiiG8+sW9EQHjjRF+7ekJ9q1/8M7eNc///zoHbxr/XNHbueVDF1LIp7o7CX7rKkZ0f640Y+62eHYRL5/CkBiuv0lD/o4ACBquKgMAEQNwQEAUUNwAEDUxv2oSm1t7eHDhwVBWLp06cKFC2/9lM1m279/v9frLS4urqqqYln2drb09PT85je/cbvdPM8/+uijhYWF4z0oecYlfVpPT88Pf/jDPXv28Lwcl/mRYVw+n+/AgQPt7e1E9I1vfGPixJse+lXXuBwOx8svv+zxeLRa7WOPPZaTk6PGcUnvfeWVV6ZPn15RUUFEbrf7pZde6uvrs1gsTzzxRHJyMhGRGI0nnngiqtf39fVt2rTJ7XZ7vd5t27Z1d3ff4qlQKLRly5bW1lZRFF9++eXjx4/fzhZRFPfs2XPq1ClRFFtaWp566qmoKrwz8oxLFMVgMLh79+6NGzf6/f64GdeBAwdeffVVURSbmpqeffbZuBlXdXX1W2+9JYpiXV3dz372MzWOSxTFwcHBX/ziFxs3bqyrq5M+6pVXXjly5IgoiidOnHjppZekjeO7VGlsbCwpKTEajXq9vry8vKGh4RZP9fb2chw3adIkIpo/f359ff3tbCGihQsXlpWVEVFeXt7w8LA4/reAlmdcRHTw4MG5c+dqtdrxHpGc46qvr1+6dCkRTZ8+fd26dXEzrlAoNDIyQkSBQECe6eFdHxcRnTp1qri4eO7cueGPOn/+/Lx584ho3rx5586dC4VCdAf7OKLq7xgcHLRYRrsRzWazw+G4xVNOp9NsNoe3OJ3O29lCRHPmzNFoNET05ptvlpeXy3DSpzzjunjxYk9Pz3Xzz3Elw7h8Pp8gCCdOnNiyZctzzz3n8/niY1xEtGzZsqNHj/7gBz947bXXli9frsZxEdEXv/jFBx98MPw5oigODw9LyxOO47RardvtpjsIjqj6OKRwClcQXkFFfEoUxfD/89Lj29kS/pA33njjk08+qaqqinZEd0CGcXk8nt///vdr164d98GMIcO4QqGQx+NhWfbZZ59dvnz53r17ZZghyvPv8Le//e2KFSt27ty5bt26X/7yl2M/WS3juvFHXPfbCf+U6IIj2u4vq9U6ODgoPXa5XOEIjPjUdVusVuvtbJEGU11dffXq1e9+97s63Wf6oMeJDONqbm622+3bt2///ve/7/F4Nm3aFH6Bqsel1+t5np83bx7DMCUlJcFgcHh4OA7GJYrixx9/XFlZSUSlpaV+v1+Nv68bfwTLsiaTSfodCYIQCAQMBgON9+HY4uLiCxcuuN1un8/X0NAwY8YMIrLb7aFQ6ManMjMzg8Fga2srEdXW1t7mFiI6ePCgIAgbNmyQbV+ADOMqLy//yU9+smvXrl27dhmNxh07doRnlaoeF8MwpaWlp06dIqIrV67wPG8yjfvNMeUZV05OzpkzZ4jIZrMRkRp/XxF/SmlpaW1tLRGdPHmyqKhImnFE13J+Bz744IPDhw8Hg8FFixYtWbKEiDZs2LBjxw6r1XrjU1euXJEODhUWFn7zm9/kOO7PbvH5fN/73vdYlg3P03bt2iXDvGO8x8Vx126P8OSTT+7cuVOe/W0yjGt4eHj//v1dXV0ajebrX/+6PIfPZRhXZ2fn/v373W63Xq9fvXq1SsclfWx1dfW0adOkw7FDQ0O//vWv7Xa7yWT69re/LU1Mxj04ACD+oHMUAKKG4ACAqCE4ACBq/w9hF3urWml4HgAAAABJRU5ErkJggg==\"></div>"
      ],
      "text/plain": [
       "-Graphics-"
      ]
     },
     "execution_count": 40,
     "metadata": {
      "text/html": [],
      "text/plain": []
     },
     "output_type": "execute_result"
    }
   ],
   "source": [
    "Plot[Irj[\\[Lambda]] /. subs /. T -> 6000, {\\[Lambda], 10^(-5),10^(-4) }]"
   ]
  },
  {
   "cell_type": "markdown",
   "metadata": {},
   "source": [
    "Obviamente a função acima tem uma divergência para $\\lambda \\mapsto \\infty$. Esta é conhecida como a **catástrofe do ultyravioleta** uma vez que seu significado físico diz que qualquer corpo a temperatura finita emitirá uma quantidade infinita de energia."
   ]
  },
  {
   "cell_type": "markdown",
   "metadata": {},
   "source": [
    "Vamos considerar uma solução ad-hoc para este problema, impedindo os estados de terem a mesma energia, fazendo com que sua energia dependa da frequência, que é a origem da divergência na expressão acima. A energia de um modo em uma dada frequência será **quantizada** em unidades dadas por"
   ]
  },
  {
   "cell_type": "code",
   "execution_count": 41,
   "metadata": {
    "ExecuteTime": {
     "end_time": "2020-03-20T13:50:37-03:00",
     "start_time": "2020-03-20T16:50:32.829Z"
    }
   },
   "outputs": [
    {
     "data": {
      "text/html": [
       "<div><img alt=\"Output\" src=\"data:image/png;base64,iVBORw0KGgoAAAANSUhEUgAAADAAAAASCAIAAACSBMrtAAAAhXpUWHRSYXcgcHJvZmlsZSB0eXBlIGV4aWYAAHjaVYvBDcMwDAP/mqIjyLJM2uMYiQNkg45fuu0n9yApgbT1vi97felp2dgxABc5csRU6P6juNciDXn+X9MfZGWgoRhTluEkhnJXkqKFN+LCAahYcIbnIV8gNQN3o86928QyPusLVffpbh/5eCey76LuBgAAAAlwSFlzAAALEwAACxMBAJqcGAAAADx0RVh0U29mdHdhcmUAQ3JlYXRlZCB3aXRoIHRoZSBXb2xmcmFtIExhbmd1YWdlIDogd3d3LndvbGZyYW0uY29tXKKmhQAAACF0RVh0Q3JlYXRpb24gVGltZQAyMDIwOjAzOjIwIDEzOjUwOjM3AFKsmQAAAlZJREFUSIntlT1I6mEUxs9fEzQHxUWEEEoHxcFaWlp0cBGhpaFBcXQTPxCc/BiEQjIMwaHBJRQUUgIpdHBwcFBERSclchEcFERUNHzPHV4RsQv33m7cHO4zPefwwPvjvF8MIsIuifXdANv6D/Qr7RzQ3jeunc1mc7mcwWA4ODiQy+UcDgcAGHrLptOp1+tFREQkhPh8PoFA8A+Y7u7uhsOhRqPRaDSrFoUIBAKvr6/Uv729PTw84JeKELLVmc1m0Wj04uJiuVxms9mbm5tms4mIK6Dr6+tisfhVy/f7/dvb23VZrVYzmcxWZrlcIqLdbvd4PNVqdTKZmM1mQsjqDF1eXmq1WoVCcXx8HAgEPs42kUjU63XqXS5XMBikXqlUms3mrXAoFPL7/evy5OQknU6fn59vZlgs1mg0ajabT09PXC4XAEQiEcMwgIilUsnpdPZ6vTV7u93+9Hg6nU4kEqHe5/NR43a7Pybz+fzz8/O6tNvtiMgCgFgsFgwGJRIJZSeE/HRIv6lCoaDT6QCg2+1KpVIAeH9/Z7PZH5Plcvn09JT6xWJB57QHABwOh2GYdQ4RN0uqZDLZaDSodzgcoVCIeoVCYTQaN5Oz2YzH4wHA4+OjSqUCgHg8vrVfVIPBQCQSUV+r1dRqNdBrb7PZzs7ODAbDfD6vVCr39/dOp3PN/qfqdrtXV1dHR0eHh4eFQkEsFguFQqvVupkZj8fhcPjl5cVisZhMpmKxGA6HJRKJy+ViEJEQkkqlWq0Wn8+XyWR6vX5/f/9zNH+v1cO4O9q5v2zngH4ARZgzgXEC948AAAAASUVORK5CYII=\"></div>"
      ],
      "text/plain": [
       "ℰ == ω ℏ"
      ]
     },
     "execution_count": 42,
     "metadata": {
      "text/html": [],
      "text/plain": []
     },
     "output_type": "execute_result"
    }
   ],
   "source": [
    "EE[\\[Omega]]:=\\[HBar] \\[Omega]\n",
    "Inactivate[\\[ScriptCapitalE]]== EE[\\[Omega]]"
   ]
  },
  {
   "cell_type": "markdown",
   "metadata": {},
   "source": [
    "Aplicamos agora o formalismo canônico na mecânica estatística:"
   ]
  },
  {
   "cell_type": "code",
   "execution_count": 43,
   "metadata": {
    "ExecuteTime": {
     "end_time": "2020-03-20T13:50:37-03:00",
     "start_time": "2020-03-20T16:50:32.835Z"
    }
   },
   "outputs": [
    {
     "data": {
      "text/html": [
       "<div><img alt=\"Output\" src=\"data:image/png;base64,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\"></div>"
      ],
      "text/plain": [
       "               β ω ℏ\n",
       "              E\n",
       "Hold[Z ] == -----------\n",
       "      1           β ω ℏ\n",
       "            -1 + E"
      ]
     },
     "execution_count": 44,
     "metadata": {
      "text/html": [],
      "text/plain": []
     },
     "output_type": "execute_result"
    }
   ],
   "source": [
    "Subscript[Z, 1] = \\!\\(\n",
    "\\*UnderoverscriptBox[\\(\\[Sum]\\), \\(m = 0\\), \\(\\[Infinity]\\)]\\(Exp[\\(-\\[Beta]\\)\\ m\\ EE[\\[Omega]]]\\)\\);\n",
    "Hold[Subscript[Z, 1]]==Subscript[Z, 1]"
   ]
  },
  {
   "cell_type": "code",
   "execution_count": 45,
   "metadata": {
    "ExecuteTime": {
     "end_time": "2020-03-20T13:50:37-03:00",
     "start_time": "2020-03-20T16:50:32.838Z"
    }
   },
   "outputs": [
    {
     "data": {
      "text/html": [
       "<div><img alt=\"Output\" src=\"data:image/png;base64,iVBORw0KGgoAAAANSUhEUgAAAEkAAAAlCAIAAACBJ1OqAAAAhXpUWHRSYXcgcHJvZmlsZSB0eXBlIGV4aWYAAHjaVYvBDcMwDAP/mqIjyLJM2uMYiQNkg45fuu0n9yApgbT1vi97felp2dgxABc5csRU6P6juNciDXn+X9MfZGWgoRhTluEkhnJXkqKFN+LCAahYcIbnIV8gNQN3o86928QyPusLVffpbh/5eCey76LuBgAAAAlwSFlzAAALEwAACxMBAJqcGAAAADx0RVh0U29mdHdhcmUAQ3JlYXRlZCB3aXRoIHRoZSBXb2xmcmFtIExhbmd1YWdlIDogd3d3LndvbGZyYW0uY29tXKKmhQAAACF0RVh0Q3JlYXRpb24gVGltZQAyMDIwOjAzOjIwIDEzOjUwOjM3AFKsmQAAAzpJREFUWIXtmG8oA2Ecx3/buW7mktIkFKWWUv68VJJSRHuxEpIXIsmLlSheLWkrlBovVyIvvNkLSUnLSmqSVigvVrJrvNgbWx07m7lzz3lxNWtHbsyt031ePev7u9/v+e55nv12j04QBPin6JUps76+3tfXh2HY4+OjMhVBMW9Go7GrqwshpEw5EZ1iezIWi5lMJpqmy8rKlKmo0LoVBM2bOtG8qRMlvNlsNpIk6+rqAKCmpoYkyc3NTQXqKtcDlEfbk+pE86ZONG/qpCg9stvtBZxHvhgYGGhubhbHWn9TJ//ZW9H3IX/MyclJKBRCCJWXl/f398t/0OfznZ2dWa3W+vp6kiSlAQVeN5Zlg8HgxMTE5ORkOBzOUl9fX3meF8cMw2SpJpMpGo2WlJR8agwK7s3v93d0dAAATdMEQWSpW1tbHMeJ452dnUwpmUyyLFtbW+v3+91u98bGhjR5gb0Fg8HGxkaPx2Oz2YaHhzOlUChUXV1tMBguLy8BgCCI9BoCgNFojMViFRUVY2NjU1NTiURCmlyutz+6YOR5XqfTDQ0NbW9vu1yuTOno6Ki3txcALi4uxEgMwzIDbm9vR0dHAYDjuOLiYmlyud7+6IIx3V1xHDcYDJkSQgjHcYqixOP08vLy1bPX19dNTU3S5Dn07t9fMIbD4fv7e7PZXFVVBQCRSOT09DSZTOr1eoZhzGZzd3d3Otjn893c3BAEEY/HCYJob29vaWlJqx6PZ39/f2lpCcfxxcXFzs7OkZGR7HqCbKLRKADQNP1VQCqV8nq9n0rPz88zMzMNDQ1Op3Ntbc3pdAqCsLe3R1GU/AnkSj77G8dxV1dXPT09UsnhcLS1tVVWVs7PzwOA1+vd3d29u7uzWq15nEAWH94ODg7Oz8+zJqTX5+eHlOd5iqIikcjKygoAvL29PT09ra6u5iX5V3x4s1gsFovlZ1kODw8DgQDLsoFAIJVKAcDCwkLm94IQwjBsfHy8tbX1lzPOAfnb99vzxjDM8vLyp5LL5XK73bOzs+JHhNDDw0NOh+cHyNpyv79gnJ6eTiQSx8fHg4ODdrt9bm5O+g8r7yj9/haPx0tLS5Wppb2bqpN3XSzMD+C4VFwAAAAASUVORK5CYII=\"></div>"
      ],
      "text/plain": [
       "     1\n",
       "-----------\n",
       "      β ω ℏ\n",
       "-1 + E"
      ]
     },
     "execution_count": 45,
     "metadata": {
      "text/html": [],
      "text/plain": []
     },
     "output_type": "execute_result"
    }
   ],
   "source": [
    "n = Sum[m Exp[-\\[Beta] m EE[\\[Omega]] ],{m,0,Infinity}] / Subscript[Z, 1]"
   ]
  },
  {
   "cell_type": "code",
   "execution_count": 46,
   "metadata": {
    "ExecuteTime": {
     "end_time": "2020-03-20T13:50:37-03:00",
     "start_time": "2020-03-20T16:50:32.840Z"
    }
   },
   "outputs": [
    {
     "data": {
      "text/html": [
       "<div><img alt=\"Output\" src=\"data:image/png;base64,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\"></div>"
      ],
      "text/plain": [
       "         3\n",
       "        ω  ℏ\n",
       "--------------------\n",
       " 3        β ω ℏ    2\n",
       "c  (-1 + E     ) Pi"
      ]
     },
     "execution_count": 46,
     "metadata": {
      "text/html": [],
      "text/plain": []
     },
     "output_type": "execute_result"
    }
   ],
   "source": [
    "Iplanck[\\[Omega]]= n EE[\\[Omega]] g[\\[Omega]]/V /. V-> L^3 "
   ]
  },
  {
   "cell_type": "code",
   "execution_count": 47,
   "metadata": {
    "ExecuteTime": {
     "end_time": "2020-03-20T13:50:37-03:00",
     "start_time": "2020-03-20T16:50:32.842Z"
    }
   },
   "outputs": [
    {
     "data": {
      "text/html": [
       "<div><img alt=\"Output\" src=\"data:image/png;base64,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\"></div>"
      ],
      "text/plain": [
       "      4  3   4\n",
       "     T  y  k\n",
       "            B\n",
       "-------------------\n",
       " 3        y    2  3\n",
       "c  (-1 + E ) Pi  ℏ"
      ]
     },
     "execution_count": 47,
     "metadata": {
      "text/html": [],
      "text/plain": []
     },
     "output_type": "execute_result"
    }
   ],
   "source": [
    "Ip[y] = Iplanck[\\[Omega]] (Subscript[k, B]T)/\\[HBar] /.\\[Omega]Toy //Simplify"
   ]
  },
  {
   "cell_type": "code",
   "execution_count": 48,
   "metadata": {
    "ExecuteTime": {
     "end_time": "2020-03-20T13:50:38-03:00",
     "start_time": "2020-03-20T16:50:32.844Z"
    }
   },
   "outputs": [
    {
     "data": {
      "text/html": [
       "<div><img alt=\"Output\" src=\"data:image/png;base64,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\"></div>"
      ],
      "text/plain": [
       "  2  4   4\n",
       "Pi  T  k\n",
       "        B\n",
       "----------\n",
       "     3  3\n",
       " 15 c  ℏ"
      ]
     },
     "execution_count": 48,
     "metadata": {
      "text/html": [],
      "text/plain": []
     },
     "output_type": "execute_result"
    }
   ],
   "source": [
    "u = Integrate[Ip[y],{y,0,Infinity}]"
   ]
  },
  {
   "cell_type": "code",
   "execution_count": 49,
   "metadata": {
    "ExecuteTime": {
     "end_time": "2020-03-20T13:50:39-03:00",
     "start_time": "2020-03-20T16:50:32.846Z"
    }
   },
   "outputs": [
    {
     "data": {
      "text/html": [
       "<style>\n",
       "\t\t\t\t\t\t\t\t\t\t\t\t\t.grid-container {\n",
       "\t\t\t\t\t\t\t\t\t\t\t\t\t\tdisplay: inline-grid;\n",
       "\t\t\t\t\t\t\t\t\t\t\t\t\t\tgrid-template-columns: auto;\n",
       "\t\t\t\t\t\t\t\t\t\t\t\t\t}\n",
       "\t\t\t\t\t\t\t\t\t\t\t\t</style>\n",
       "\n",
       "\t\t\t\t\t\t\t\t\t\t\t\t<div><div class=\"grid-container\"><div class=\"grid-item\"><img alt=\"Output\" src=\"data:image/png;base64,iVBORw0KGgoAAAANSUhEUgAAAAwAAAASCAIAAADgy6hbAAAAhXpUWHRSYXcgcHJvZmlsZSB0eXBlIGV4aWYAAHjaVYvBDcMwDAP/mqIjyLJM2uMYiQNkg45fuu0n9yApgbT1vi97felp2dgxABc5csRU6P6juNciDXn+X9MfZGWgoRhTluEkhnJXkqKFN+LCAahYcIbnIV8gNQN3o86928QyPusLVffpbh/5eCey76LuBgAAAAlwSFlzAAALEwAACxMBAJqcGAAAADx0RVh0U29mdHdhcmUAQ3JlYXRlZCB3aXRoIHRoZSBXb2xmcmFtIExhbmd1YWdlIDogd3d3LndvbGZyYW0uY29tXKKmhQAAACF0RVh0Q3JlYXRpb24gVGltZQAyMDIwOjAzOjIwIDEzOjUwOjM55+qBngAAADpJREFUKJFj/P//PwMhwERQxSBVxMLAwMDPuJqwIgYGBg6GUFwqfjCsHoy+G4yKoIH5gwFfoDMSk+gAAEgKgUDmcncAAAAASUVORK5CYII=\"></div><div class=\"grid-item\"><img alt=\"Output\" src=\"data:image/png;base64,iVBORw0KGgoAAAANSUhEUgAAAAwAAAASCAIAAADgy6hbAAAAhXpUWHRSYXcgcHJvZmlsZSB0eXBlIGV4aWYAAHjaVYvBDcMwDAP/mqIjyLJM2uMYiQNkg45fuu0n9yApgbT1vi97felp2dgxABc5csRU6P6juNciDXn+X9MfZGWgoRhTluEkhnJXkqKFN+LCAahYcIbnIV8gNQN3o86928QyPusLVffpbh/5eCey76LuBgAAAAlwSFlzAAALEwAACxMBAJqcGAAAADx0RVh0U29mdHdhcmUAQ3JlYXRlZCB3aXRoIHRoZSBXb2xmcmFtIExhbmd1YWdlIDogd3d3LndvbGZyYW0uY29tXKKmhQAAACF0RVh0Q3JlYXRpb24gVGltZQAyMDIwOjAzOjIwIDEzOjUwOjM55+qBngAAADZJREFUKJFj/P//PwMhwERQxSBVxMLAwMC4mpGwIgYGBoZQ3EpWD0rfDUZFsMBcjU8RIzGJDgAzrwh7gE9uiAAAAABJRU5ErkJggg==\"></div><div class=\"grid-item\"><img alt=\"Output\" src=\"data:image/png;base64,iVBORw0KGgoAAAANSUhEUgAAAAwAAAASCAIAAADgy6hbAAAAhXpUWHRSYXcgcHJvZmlsZSB0eXBlIGV4aWYAAHjaVYvBDcMwDAP/mqIjyLJM2uMYiQNkg45fuu0n9yApgbT1vi97felp2dgxABc5csRU6P6juNciDXn+X9MfZGWgoRhTluEkhnJXkqKFN+LCAahYcIbnIV8gNQN3o86928QyPusLVffpbh/5eCey76LuBgAAAAlwSFlzAAALEwAACxMBAJqcGAAAADx0RVh0U29mdHdhcmUAQ3JlYXRlZCB3aXRoIHRoZSBXb2xmcmFtIExhbmd1YWdlIDogd3d3LndvbGZyYW0uY29tXKKmhQAAACF0RVh0Q3JlYXRpb24gVGltZQAyMDIwOjAzOjIwIDEzOjUwOjM55+qBngAAADVJREFUKJFj/P//PwMhwERQxSBVxMLAwBDLyEhYEQMDgx5uFZcGp+8GoyJoYF7Cq4iRmEQHALX9CFTwqBDGAAAAAElFTkSuQmCC\"></div></div></div>"
      ],
      "text/plain": [
       "RGBColor[0.0870535, 0., 1.]\n",
       "RGBColor[0., 1., 0.]\n",
       "RGBColor[0.54188, 0., 0.]"
      ]
     },
     "execution_count": 50,
     "metadata": {
      "text/html": [],
      "text/plain": []
     },
     "output_type": "execute_result"
    }
   ],
   "source": [
    "(*Mathematica tem uma função Built in*)\n",
    "PlanckRadiationLaw[Quantity[6000, \"DegreesCelsius\"], \"Color\"]\n",
    "PlanckRadiationLaw[Quantity[5000, \"DegreesCelsius\"], \"Color\"]\n",
    "PlanckRadiationLaw[Quantity[4000, \"DegreesCelsius\"], \"Color\"]"
   ]
  }
 ],
 "metadata": {
  "author": "",
  "kernelspec": {
   "display_name": "Wolfram Language 12",
   "language": "Wolfram Language",
   "name": "wolframlanguage12"
  },
  "language_info": {
   "codemirror_mode": "mathematica",
   "file_extension": ".m",
   "mimetype": "application/vnd.wolfram.m",
   "name": "Wolfram Language",
   "pygments_lexer": "mathematica",
   "version": "12.0"
  },
  "latex_envs": {
   "LaTeX_envs_menu_present": true,
   "autoclose": false,
   "autocomplete": true,
   "bibliofile": "biblio.bib",
   "cite_by": "apalike",
   "current_citInitial": 1,
   "eqLabelWithNumbers": true,
   "eqNumInitial": 1,
   "hotkeys": {
    "equation": "Ctrl-E",
    "itemize": "Ctrl-I"
   },
   "labels_anchors": false,
   "latex_user_defs": false,
   "report_style_numbering": false,
   "user_envs_cfg": false
  }
 },
 "nbformat": 4,
 "nbformat_minor": 4
}
