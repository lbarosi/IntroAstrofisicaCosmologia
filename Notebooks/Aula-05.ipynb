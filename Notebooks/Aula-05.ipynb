{
 "cells": [
  {
   "cell_type": "markdown",
   "metadata": {
    "ExecuteTime": {
     "end_time": "2020-03-12T12:36:05.756401Z",
     "start_time": "2020-03-12T12:36:05.751553Z"
    }
   },
   "source": [
    "<p><img src=\"../IMAGES/Logo-UFCG.png\" width=\"80\" ></p>\n",
    "\n",
    "# Introdução à Astrofísica e Cosmologia\n",
    "\n",
    "## Aula 05: Interiores Estelares\n",
    "\n",
    "**Luciano Barosi**"
   ]
  },
  {
   "cell_type": "markdown",
   "metadata": {},
   "source": [
    "## Inicialização"
   ]
  },
  {
   "cell_type": "code",
   "execution_count": 1,
   "metadata": {
    "ExecuteTime": {
     "end_time": "2020-04-06T08:30:33.880438Z",
     "start_time": "2020-04-06T08:30:33.876689Z"
    }
   },
   "outputs": [],
   "source": [
    "# Incluindo diretório scripts no caminho\n",
    "from glob import glob\n",
    "import sys\n",
    "import os\n",
    "sys.path.insert(0, '../scripts/')"
   ]
  },
  {
   "cell_type": "code",
   "execution_count": 2,
   "metadata": {
    "ExecuteTime": {
     "end_time": "2020-04-06T08:30:34.364178Z",
     "start_time": "2020-04-06T08:30:34.361052Z"
    }
   },
   "outputs": [],
   "source": [
    "# show result from all calculations of the cell\n",
    "from IPython.core.interactiveshell import InteractiveShell\n",
    "InteractiveShell.ast_node_interactivity = \"all\""
   ]
  },
  {
   "cell_type": "code",
   "execution_count": 3,
   "metadata": {
    "ExecuteTime": {
     "end_time": "2020-04-06T08:30:44.404158Z",
     "start_time": "2020-04-06T08:30:34.793337Z"
    }
   },
   "outputs": [],
   "source": [
    "# Astropy tem muitas funções úteis, aqui iniciamos \n",
    "#valores de constantes e a habilidade de fazer manipulações com unidades\n",
    "from astropy import constants as const\n",
    "from astropy import units as u\n",
    "from astropy.io import fits\n",
    "from astropy.modeling.models import BlackBody"
   ]
  },
  {
   "cell_type": "code",
   "execution_count": 4,
   "metadata": {
    "ExecuteTime": {
     "end_time": "2020-04-06T08:30:52.494610Z",
     "start_time": "2020-04-06T08:30:44.406516Z"
    }
   },
   "outputs": [],
   "source": [
    "# pacotes básicos\n",
    "import numpy as np\n",
    "from scipy import stats\n",
    "import matplotlib.pyplot as plt\n",
    "from matplotlib import cm\n",
    "from matplotlib.colors import ListedColormap\n",
    "import matplotlib.patches as patches\n",
    "import seaborn as sns"
   ]
  },
  {
   "cell_type": "code",
   "execution_count": 5,
   "metadata": {
    "ExecuteTime": {
     "end_time": "2020-04-06T08:30:57.516090Z",
     "start_time": "2020-04-06T08:30:52.500597Z"
    }
   },
   "outputs": [
    {
     "name": "stdout",
     "output_type": "stream",
     "text": [
      "IPython console for SymPy 1.5.1 (Python 3.7.7-64-bit) (ground types: gmpy)\n",
      "\n",
      "These commands were executed:\n",
      ">>> from __future__ import division\n",
      ">>> from sympy import *\n",
      ">>> x, y, z, t = symbols('x y z t')\n",
      ">>> k, m, n = symbols('k m n', integer=True)\n",
      ">>> f, g, h = symbols('f g h', cls=Function)\n",
      ">>> init_printing()\n",
      "\n",
      "Documentation can be found at https://docs.sympy.org/1.5.1/\n",
      "\n"
     ]
    }
   ],
   "source": [
    "#Pacote para algumas manipulações simbólicas.\n",
    "# Para a visualização das expressões teremos que usar o display\n",
    "from sympy import *\n",
    "from sympy import init_printing; \n",
    "init_printing(use_latex='mathjax')\n",
    "from IPython.display import display\n",
    "from sympy import init_session\n",
    "init_session()"
   ]
  },
  {
   "cell_type": "code",
   "execution_count": 6,
   "metadata": {
    "ExecuteTime": {
     "end_time": "2020-04-06T08:30:57.522972Z",
     "start_time": "2020-04-06T08:30:57.518260Z"
    }
   },
   "outputs": [],
   "source": [
    "# Plot magic\n",
    "%matplotlib inline"
   ]
  },
  {
   "cell_type": "code",
   "execution_count": 7,
   "metadata": {
    "ExecuteTime": {
     "end_time": "2020-04-06T08:30:57.661940Z",
     "start_time": "2020-04-06T08:30:57.525319Z"
    }
   },
   "outputs": [],
   "source": [
    "# Instruções para usar o artroquery com a base de dados do ESO\n",
    "#from astroquery.eso import Eso\n",
    "#eso = Eso()\n",
    "#eso.login(\"lbarosi\", store_password=True)\n",
    "#eso.list_instruments()\n",
    "#eso.query_instrument('isaac', help=True)\n",
    "#table = eso.query_instrument('isaac', column_filters={\"dp_tech\":\"SPECTRUM\"})\n",
    "#eso.get_headers(table['DP.ID'])\n",
    "#data_files = eso.retrieve_data(table['DP.ID'][:2])"
   ]
  },
  {
   "cell_type": "markdown",
   "metadata": {},
   "source": [
    "## Introdução"
   ]
  },
  {
   "cell_type": "markdown",
   "metadata": {},
   "source": [
    "Vamos dicutir como as estrelas funcionam e mostrar como os indícios que colhemos das aulas anteriores levam a um modelo satisfatório da dinâmica estelar."
   ]
  },
  {
   "cell_type": "markdown",
   "metadata": {},
   "source": [
    "Precisamos formular as equações básicas da dinâmica estelar. Já vimos a primeira delas, a equação do equilíbrio hidrodinâmico:\n",
    "\n",
    "$$\\frac{dP}{dr} = -\\frac{GM(r)\\rho(r)}{r^2}. $$\n",
    "\n",
    "Esta estrela que estamos considerando é esfericamente simétrica e estática, sem apresentar rotação ou contração.\n",
    "\n",
    "Nós precisamos de mais duas equações para poder resolver o nosso problema de três variáveis $P(r), \\rho(r), M(r)$.\n",
    "\n",
    "Em muitos casos vamos precisar ter um entendimento grosso modo das condições das estrelas para saber se estamos indo no caminho certo. Algumas aproximações e simplificações vão servir muito para nos manter no trilho certo."
   ]
  },
  {
   "cell_type": "markdown",
   "metadata": {},
   "source": [
    "### Pressão no interior da Estrela"
   ]
  },
  {
   "cell_type": "markdown",
   "metadata": {},
   "source": [
    "Em uma aproximação bruta, vamos considerar:\n",
    "\n",
    "$$ \\frac{\\Delta P}{\\Delta r} \\sim - \\frac{G \\langle G \\rangle}{\\langle r \\rangle ^2},$$\n",
    "\n",
    "e aplicar esta expressão para estimar a pressão no centr da estrela. Para tanto consideramos que a pressão no centro é muito maior do que a pressão na fotosfera, vamos aproximar a média da massa por $M/2$, a densidade pela densidade média $\\rho = M/V$ e o raio também por $R/2$, de forma que:\n",
    "\n",
    "$$P_c \\sim \\frac{3 G M^2}{2 \\pi R^4} $$"
   ]
  },
  {
   "cell_type": "code",
   "execution_count": 8,
   "metadata": {
    "ExecuteTime": {
     "end_time": "2020-04-06T08:30:57.764212Z",
     "start_time": "2020-04-06T08:30:57.663790Z"
    }
   },
   "outputs": [],
   "source": [
    "Pc =( (3 * const.G * const.M_sun**2 /\n",
    "        (2 * np.pi * const.R_sun**4 ) ).to(u.Pa))"
   ]
  },
  {
   "cell_type": "markdown",
   "metadata": {
    "variables": {
     " Pc ": "<div><pre style=\"&#102;&#111;&#110;&#116;&#45;&#102;&#97;&#109;&#105;&#108;&#121;&#58;&#32;&#34;&#67;&#111;&#117;&#114;&#105;&#101;&#114;&#32;&#78;&#101;&#119;&#34;&#44;&#67;&#111;&#117;&#114;&#105;&#101;&#114;&#44;&#109;&#111;&#110;&#111;&#115;&#112;&#97;&#99;&#101;&#59;\">&#80;&#99;</pre></div>"
    }
   },
   "source": [
    "Para o Sol temos: {{ Pc }}"
   ]
  },
  {
   "cell_type": "markdown",
   "metadata": {},
   "source": [
    "Ser comparamos com a pressão na fotosfera, mil vezes menor do que a pressão da atmosfera terrestre, vemos que a aproximação que fizemos de alta pressão no interior é plenamente aplicável."
   ]
  },
  {
   "cell_type": "markdown",
   "metadata": {},
   "source": [
    "### Equação da continuidade."
   ]
  },
  {
   "cell_type": "markdown",
   "metadata": {},
   "source": [
    "A segunda equação da dinâmica estelar assegura que a estrela não esta perdendo nem ganhando massa.\n",
    "\n",
    "$$\\frac{dM}{dr} = 4\\pi r^2 \\rho(r). $$"
   ]
  },
  {
   "cell_type": "markdown",
   "metadata": {},
   "source": [
    "### Equação de Estado"
   ]
  },
  {
   "cell_type": "markdown",
   "metadata": {},
   "source": [
    "Falta ainda uma relação entre a Pressão e a densidade na estrela. Esta relação é uma equação de estado. Certamente existem várias condições diferentes em estrelas (ou coisas que já foram estrelas), mas podemos considerar, po ora, a mesma condição que já discutimos na aula passada. Vamos considerar que a estrela possa ser representada por um gás ideal.\n",
    "\n",
    "Esta é uma aproximação sensata se lembrarmos que os gases parecem mais ideais quanto maior for a sua temperatura. O gás ideal não sofre transformações de fase e não há interação de curto alcance entre os átomos.\n",
    "\n",
    "$$P(r) = \\frac{\\rho(r)kT(r)}{\\mu m_p} $$\n"
   ]
  },
  {
   "cell_type": "markdown",
   "metadata": {},
   "source": [
    "Há pelo menos mais um gás que contribui com a estrela, com equação de estado diferente. O gás de radiação que exerce uma pressão proporcional a $T^4$, contudo a contribuição da pressão de radiação da estrela para a sua estrutura é negligenciável para a grande maioria das estrelas."
   ]
  },
  {
   "cell_type": "markdown",
   "metadata": {},
   "source": [
    "A massa molecular média também é uma função de $r$, a medida em que seu valor muda conforme o grau de ionização dos gases que compõe a estrela.\n",
    "\n",
    "Vamos considerar por hora o caso em que a estrela seja totalmente ionizada em sua totalidade e que a distribuição de composição química seja aproximadamente constante.\n",
    "\n",
    "Assim podemos fazer a aproximação de que a massa molucular média seja constante em toda a estrela e seja representada por um valor médio. fixo."
   ]
  },
  {
   "cell_type": "markdown",
   "metadata": {},
   "source": [
    "Temos agora 3 equações, mas temos 4 variáveis: $T$, $P$, $M$ e $\\rho$."
   ]
  },
  {
   "cell_type": "markdown",
   "metadata": {},
   "source": [
    "### Temperatura no Centro da Estrela"
   ]
  },
  {
   "cell_type": "markdown",
   "metadata": {},
   "source": [
    "\n",
    "Vamos mergulhar mais uma vez em uma aproxinação radical, desta vez para estimarmos a temperatura no centro da estrela e obtermos um valor numérico para o Sol.\n",
    "\n",
    "\\begin{eqnarray}\n",
    "\\frac{dP}{dr} &=& -\\frac{GM(r)\\rho(r)}{r^2}\\\\\n",
    "\\frac{dM}{dr} &=& 4\\pi r^2 \\rho(r)\\\\\n",
    "P(r) &=& \\frac{\\rho(r)kT(r)}{\\mu m_p}\\\\\n",
    "\\end{eqnarray}\n",
    "\n",
    "Usando o valores que já encontramos para a pressão do Sol, temos que \n",
    "\n",
    "$$T_c \\sim P_c \\frac{\\mu_\\odot m_p}{\\rho_\\odot k} \\sim \\frac{2 G M_\\odot \\mu_\\odot m_p}{R_\\odot k}, $$\n",
    "\n",
    "usando que $\\mu_odot = 0.60$ temos:\n"
   ]
  },
  {
   "cell_type": "code",
   "execution_count": 9,
   "metadata": {
    "ExecuteTime": {
     "end_time": "2020-04-06T08:30:59.282204Z",
     "start_time": "2020-04-06T08:30:59.276705Z"
    }
   },
   "outputs": [
    {
     "name": "stdout",
     "output_type": "stream",
     "text": [
      "Temperatura no centro do Sol: +3e+07 K\n"
     ]
    }
   ],
   "source": [
    "Tc = (2 * const.G * const.M_sun * 0.6 * const.m_p/\\\n",
    "(const.R_sun * const.k_B)).to(u.K)\n",
    "print(\"Temperatura no centro do Sol: {:+0.0e}\".format(Tc))"
   ]
  },
  {
   "cell_type": "markdown",
   "metadata": {},
   "source": [
    "Essa temperatura é apenas 2 vezes maior do que os melhores modelos disponíveis!"
   ]
  },
  {
   "cell_type": "markdown",
   "metadata": {},
   "source": [
    "### Equação de Transporte de Energia"
   ]
  },
  {
   "cell_type": "markdown",
   "metadata": {},
   "source": [
    "Estrelas brilham por que são quentes, e suas superfícies são quentes porque o calor flui de seus centros para suas superfícies. Vamos agora discutir como descrever este fluxo de calor.\n",
    "\n",
    "Calor pode ser transportado por condução, convecção e irradiação. A condução só é eficiente em meios sólidos. (É por isso que a areia da praia queima o seu pé e o ar da praia não queima seu corpo.)\n",
    "\n",
    "A convecção tem um papel importante nas estrelas, mas não é o fenômeno principal. Vamos começar discutindo a irradiação.\n",
    "\n",
    "Para um gás de radiação, o potencial químico é zero. (Os fótons tem massa nula) e a função distribuição adequada é a distribuição de planck:\n",
    "\n",
    "\\begin{eqnarray}\n",
    "f(p) &=& \\frac{1}{e^\\frac{E}{kT}-1} \\\\\n",
    "n(T) &=& \\frac{1}{(2\\pi)^3}\\int d³p f(p) \\\\\n",
    "\\rho(T) &=& \\frac{1}{(2\\pi)^3}\\int d³p E(p) f(p)\\\\\n",
    "P(T) &=& \\frac{1}{(2\\pi)^3}\\int d³p \\frac{p^2}{3 E}f(p)\n",
    "\\end{eqnarray}\n",
    "\n",
    "Podemos mostrar que: \n",
    "$$P_\\mathrm{rad} = \\frac{4\\sigma}{c} T^4. $$\n",
    "\n",
    "Podemos também demonstrar esta expressão diretamente da termodinâmica, a partir da expressão para a energia da radiação.\n",
    "\n",
    "Vamos considerar uma camada esférica circular fina de espessura $dr$, com raio $r$. Temos que $dT$ deve ser negativo para indicar um fluxo de calor para fora do centro. Podemos então escrever que a força de radiação é dada pelo gradiente de pressão:\n",
    "\n",
    "\n",
    "\n",
    "$$F_\\mathrm{rad} = [P_\\mathrm{rad}(r) - P_\\mathrm{rad}(r+dr)] 4 \\pi r^2 = -\\frac{64\\pi \\sigma}{3c} r^2 T^3 dT, $$\n",
    "\n",
    "Mas a força da radiação está associada com a variação de momento. A relação de dispersão de fótons é dada por $E = pc$ logo a variação de momento esta associada com a variação de energia, ou seja, um fluxo de energia, que por sua vez está associada com a Luminosidade.\n",
    "\n",
    "Temos que levar em conta agora que a estrela não é totalmente transparente e apenas uma fração dos fótons de uma camada abaixo escapam de uma casca esférica. Este conceito esta associado com a **profundidade ótica**:\n",
    "\n",
    "$$d\\tau = -\\rho(r)\\kappa(r) dr, $$\n",
    "\n",
    "ou seja, a profundidade ótica diminui a medida que saimos da estrela, depende da densidade e de uma \"constante\" de proporcionalidade e do tamanho do caminho. Se a profundidade ótica for muito pequena podemos considerar que a probabilidade de um foton ser absorvido enquanto cruza a casca esférica é proporcional a $d\\tau$. Assim, a razão de fluxo de momento é dado por $L/c$ e o fluxo total de momento pode ser dado por:\n",
    "\n",
    "$$F_\\mathrm{rad} = \\frac{L(r)}{c}d\\tau = -\\frac{L(r)}{c}\\rho(r)\\kappa(r)dr, $$\n",
    "\n",
    "portanto:\n",
    "\n",
    "$$ \\frac{dT}{dr} = -\\frac{3\\rho(r)\\kappa(r)L(r)}{64\\pi\\sigma T(r)^3 r^2}$$"
   ]
  },
  {
   "cell_type": "markdown",
   "metadata": {},
   "source": [
    "Com esta equação podemos fazer uma estimativa da luminosidade do Sol.\n",
    "\n",
    "$$L_\\odot \\sim \\frac{2\\pi\\sigma T_c^4r_\\odot}{3\\langle \\kappa \\rangle \\rho_\\odot} \\sim 3 \\times 10^{27} \\mathrm{W}\\left(\\frac{\\langle \\kappa \\rangle}{1 \\mathrm{m}^2\\mathrm{kg}^1} \\right)^{-1}$$"
   ]
  },
  {
   "cell_type": "markdown",
   "metadata": {},
   "source": [
    "Conhecendo a luminosidade solar $L_\\odot = 3.9 \\times 10^{26} W$ podemos determinar o valor da da média $\\langle \\kappa \\rangle \\approx 8 m^2 kg^ {-1}$."
   ]
  },
  {
   "cell_type": "markdown",
   "metadata": {},
   "source": [
    "## Teorema do Virial e Estabilidade"
   ]
  },
  {
   "cell_type": "markdown",
   "metadata": {},
   "source": [
    "O teorema do Virial fornece uma relação entre as médias temporais  energia potencial e a energia cinética de um sistema conservativo.\n",
    "\n",
    "No caso de equilíbrio podemos demonstrar com facilidade as relações, começando por integrar a equação do equilíbrio hidrostárico:\n",
    "\n",
    "\\begin{eqnarray}\n",
    "\\frac{dP}{dr} &=& -\\frac{GM(r)\\rho(r)}{r^2} \\Rightarrow  \\\\\n",
    "\\int_0^R dr\\; 4\\pi r^3 \\frac{dP}{dr} &=& -\\int_0^R dr\\;4\\pi r^3 \\frac{G M(r)\\rho}{r^2} \\Rightarrow \\\\\n",
    "-3\\int_0^R dr\\; 4\\pi r^2 P &=& -\\int_0^M dM\\; \\frac{G M(r)}{r} \\Rightarrow \\\\\n",
    "-3 \\int_0^M dM\\; \\frac{P}{\\rho} &=& -\\int_0^M dM\\; \\frac{G M(r)}{r} \\Rightarrow \\\\\n",
    "-2 K &=& U_g\n",
    "\\end{eqnarray}"
   ]
  },
  {
   "cell_type": "markdown",
   "metadata": {},
   "source": [
    "Podemos considerar uma variedade de gases com equações de estado politrópicas em vez de considerar apenas um gás ideal. Consideramos uma equação de estado na forma $P = K \\rho^\\gamma$, e poderemos escrever que:\n",
    "\n",
    "\\begin{eqnarray}\n",
    "\\frac{dP}{P}=\\frac{\\gamma d\\rho}{\\rho}  &\\wedge& \\frac{d\\rho}{\\rho}=\\frac{dV}{V} \\Rightarrow \\\\\n",
    "d\\left(\\frac{PV}{\\gamma -1}\\right) &=& -PdV = dU \\Rightarrow \\\\\n",
    "P = (\\gamma -1) \\frac{U}{V},\n",
    "\\end{eqnarray}\n",
    "\n",
    "aplicando na expressão do Virial temos:\n",
    "\n",
    "$$-3(\\gamma -1)K = U_g. $$\n",
    "\n",
    "Uma estrela é estável se a energia total $K + U_g$ for maior do que zero $U_T = (4-3\\gamma)K$.\n",
    "\n",
    "Para um gás ideal, $\\gamma = 5/3$ e para radiação $\\gamma = 4/3$. Uma estrela com $\\gamma = 4/3$ esta no limiar da estabilidade. "
   ]
  },
  {
   "cell_type": "markdown",
   "metadata": {},
   "source": [
    "### Equilíbrio Térmico"
   ]
  },
  {
   "cell_type": "markdown",
   "metadata": {},
   "source": [
    "A estrela produz uma determinada quantidade de energia por unidade de tempo por diferentes processos e irradia energia na forma luminosa por meio de sua luminosidade.\n",
    "\n",
    "Podemos escrever:\n",
    "\n",
    "$$\\frac{dL}{dr} = 4\\pi r^2 \\epsilon \\rho,$$\n",
    "\n",
    "onde $\\epsilon = dE/dT = \\epsilon_g + \\epsilon_\\mathrm{nuc} - \\epsilon_\\nu$.\n",
    "\n",
    "O primeiro termo é a energia irradiada e as componentes da densidade de energia correspondem a energia gravitacional, energia nuclear e a energia irradiada na forma de neutrinos."
   ]
  },
  {
   "cell_type": "markdown",
   "metadata": {},
   "source": [
    "Usando a equação do equilíbrio térmico e a expressão para a pressão de radiação, podemos escrever a pressão de radiação em termos da pressão do total:\n",
    "\n",
    "$$\\frac{dP_\\mathrm{rad}}{dP} = \\frac{\\kappa L(r)}{4\\pi c G M(r)} $$ \n",
    "\n",
    "A pressão da estrela é formada pela pressão do gás mais a pressão da radiação, portanto a derivada acima deve ser menor do que 1, o que implica um limite para a luminosidade:\n",
    "\n",
    "$$ L < L_\\mathrm{edd} = \\frac{4\\pi c G M}{\\kappa},$$\n",
    "\n",
    "conhecida como **lumiosidade de Eddington**.\n",
    "\n",
    "Se esta luminosidade for excedida, a estrela vai ejetar as suas camadas mais exteriores como vento estelar"
   ]
  },
  {
   "cell_type": "markdown",
   "metadata": {},
   "source": [
    "Esse limite deve ser válido para L calculado no raio da estrela. Se o limite for violado em alguma camada esférica da estrela, o que ocorre é uma mudança de sinal na dependência da pressão do gás, o que significa que este gás agora massa a ter a sua pressão aumentando a medida em que r aumenta. Isto causa uma estratificação nas camadas da estrela e permite o início de um processo convectido de condução de calor.\n",
    "\n",
    "O critério de Eddington então é uma das condições necessárias para a existência de processos convectivos nas estrelas. (mas não suficiente)."
   ]
  },
  {
   "cell_type": "markdown",
   "metadata": {},
   "source": [
    "### Derivando propriedades estelares"
   ]
  },
  {
   "cell_type": "markdown",
   "metadata": {},
   "source": [
    "Este modelo de estrelas que estamos construindo deve ser capaz de explicar as relações que encontramos no diagrama de Hertzsprung-Russel.\n",
    "\n",
    "Vamos considerar a relação entre massa e luminosidade. Se considerarmos as equações diferenciais como equações de diferenças vemos que:\n",
    "\n",
    "\\begin{eqnarray}\n",
    "P \\propto \\frac{M\\rho}{\\rho} \\wedge P \\propto \\rho T \\Rightarrow P = \\propto \\frac{M \\rho}{R}\\propto \\rho T \\Rightarrow T\\propto \\frac{M}{R} \\\\\n",
    "L \\propto \\frac{R T^4}{\\kappa \\rho}\\propto \\frac{R^4 T^4}{\\kappa M} \\\\\n",
    "L \\propto \\frac{M^3}{\\kappa}\n",
    "\\end{eqnarray}\n"
   ]
  },
  {
   "cell_type": "markdown",
   "metadata": {},
   "source": [
    "## Equações de Lane-Emden"
   ]
  },
  {
   "cell_type": "markdown",
   "metadata": {},
   "source": [
    "Consideremos uma estrela em equilíbrio com uma equação de estado politrópica. As equações que a descrevem são:\n",
    "\n",
    "\\begin{eqnarray}\n",
    "P &=& K \\rho^\\gamma \\\\\n",
    "\\frac{dP}{dr} &=& -\\frac{GM\\rho}{r^2} \\\\\n",
    "\\frac{dM}{dr} &=& 4\\pi r^2 \\rho(r)\\\\\n",
    "\\frac{dT}{dr} &=& -\\frac{3\\rho \\kappa L}{64\\pi \\sigma T^3 r^2} \\\\\n",
    "\\frac{dL}{dr} &=& 4\\pi r^2 \\epsilon \\rho \n",
    "\\end{eqnarray}"
   ]
  },
  {
   "cell_type": "markdown",
   "metadata": {},
   "source": [
    "Combinando a equação de estado com a equação de equilíbrio hidrostático temos:\n",
    "\n",
    "\\begin{eqnarray}\n",
    "\\frac{dP}{dr} &=& -\\frac{GM\\rho}{r^2} \\Rightarrow \\\\\n",
    "K \\gamma \\rho^{\\gamma -1} \\frac{d\\rho}{dr} &=& -\\frac{GM\\rho}{r^2} \\Rightarrow \\\\\n",
    "K \\gamma \\rho^{\\gamma -1} \\frac{d\\rho}{dr} &=& -4 \\pi\\frac{G}{r^2} \\rho \\int \\rho r^2 dr \\Rightarrow \\\\\n",
    "K \\gamma r^2 \\rho^{\\gamma -2} \\frac{d\\rho}{dr} &=& - 4\\pi G  \\int \\rho r^2 dr \\Rightarrow \\\\\n",
    "\\frac{d}{dr} K \\left( \\gamma \\rho^{\\gamma -2} \\frac{d\\rho}{dr} \\right) &=& -\\frac{G}{r^2} \\frac{d}{dr}\\left( \\int \\rho r^2 dr \\right) \\Rightarrow \\\\\n",
    "\\frac{d}{dr} \\left( \\rho^{\\gamma -2} \\frac{d\\rho}{dr}  \\right) &=& - r^2 \\rho \\frac{4\\pi G}{K \\gamma} \\\\\n",
    "\\frac{1}{\\rho r^2} \\frac{d}{dr} \\left( \\rho^{\\gamma -2} \\frac{d\\rho}{dr}  \\right) &=& - \\frac{4\\pi G}{K \\gamma} \\\\\n",
    "\\end{eqnarray}"
   ]
  },
  {
   "cell_type": "markdown",
   "metadata": {},
   "source": [
    "Esta equação pode ser resolvida a uma forma conhecida como equação de Lane-Emdem.\n",
    "\n",
    "Fazemos $\\gamma = 1+\\frac{1}{n}$, consideramos como condições de contorno a partir do centro:\n",
    "\n",
    "$$ \\rho(0) = \\rho_c \\wedge \\left(\\frac{d\\rho}{dr}\\right)_{r=0}=0,$$\n",
    "\n",
    "agora fazemos uma mudança de variáveis para grandezas adimensionais:\n",
    "\n",
    "\\begin{eqnarray}\n",
    "\\rho &=& \\rho_c w^n \\\\\n",
    "r = \\alpha z &\\;\\;\\;\\;\\;\\;& \\alpha = \\left(\\frac{n+1}{4\\pi G} K \\rho_c^{1/n -1} \\right)^{1/2}\n",
    "\\end{eqnarray}\n",
    "\n",
    "de forma que a equação final é dada por \n",
    "$$\\frac{1}{z^2} \\frac{d}{dz}\\left(z^2 \\frac{dw}{dz} \\right) + w^n = 0, $$\n",
    "\n",
    "nestas variáveis as condições de contorno so: $w = 1, \\;\\;\\; dw/dz = 0$ em $z=0$"
   ]
  },
  {
   "cell_type": "markdown",
   "metadata": {},
   "source": [
    "A equação de Lane-Emden não tem solução analítica, mas pode ser resolvida por métodos numéricos. A equação é stiff na origem, então temos que mover um pouco a solução para fora do ponto $r = 0$. A solução que vamos implementar é no Mathematica e usa a função ```NDSolve```. Abaixo os gráficos para $n \\in \\{0, 1, 2, 3, 4, 5\\}$."
   ]
  },
  {
   "cell_type": "code",
   "execution_count": 31,
   "metadata": {
    "ExecuteTime": {
     "end_time": "2020-04-06T15:12:38-03:00",
     "start_time": "2020-04-06T18:12:38.202Z"
    }
   },
   "outputs": [
    {
     "ename": "At `1` == `2`, step size is effectively zero; singularity or stiff system suspected.",
     "evalue": "At x$14258 == 12.4311, step size is effectively zero; singularity or stiff system suspected.",
     "output_type": "error",
     "traceback": [
      "\u001b[0;31mAt `1` == `2`, step size is effectively zero; singularity or stiff system suspected.: At x$14258 == 12.4311, step size is effectively zero; singularity or stiff system suspected.\u001b[0m"
     ]
    },
    {
     "data": {
      "text/html": [
       "<div><img alt=\"Output\" src=\"data:image/png;base64,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\"></div>"
      ],
      "text/plain": [
       "-Graphics-"
      ]
     },
     "execution_count": 33,
     "metadata": {
      "text/html": [],
      "text/plain": []
     },
     "output_type": "execute_result"
    }
   ],
   "source": [
    "LaneEmdenSolution[n_] := Module[{x, y, eps = $MachineEpsilon},\n",
    "  NDSolve[{x y[x]^n + 2 y'[x] + x y''[x] == 0, y[eps] == 1, \n",
    "     y'[eps] == 0}, y, {x, eps, 25}][[1, 1, 2]]\n",
    "  ]\n",
    "soln = LaneEmdenSolution[#][x] & /@ Range[0, 5];\n",
    "Plot[soln, {x, 0, 10}, Method -> Evaluated -> True, \n",
    " PlotStyle -> {Black, Red, Yellow, Green, Blue, Purple}, \n",
    " PlotRange -> {-1, 1}, AxesLabel -> {\\[Xi], \\[Theta][\\[Xi]]}, ImageSize -> 640]"
   ]
  },
  {
   "cell_type": "markdown",
   "metadata": {},
   "source": [
    "Evidentemente as soluções só tem a parte positiva física, $w$ esta relacionado com a densidade. Assim cada valor de $n$ apresenta um raio máximo da estrela, que também pode ser determinado numericamente."
   ]
  },
  {
   "cell_type": "code",
   "execution_count": 35,
   "metadata": {
    "ExecuteTime": {
     "end_time": "2020-04-06T15:12:57-03:00",
     "start_time": "2020-04-06T18:12:57.671Z"
    }
   },
   "outputs": [
    {
     "data": {
      "text/html": [
       "<div><img alt=\"Output\" src=\"data:image/png;base64,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\"></div>"
      ],
      "text/plain": [
       "{{x -> 2.44949}, {x -> 3.14159}, {x -> 4.35287}, {x -> 6.89685}, {x -> 14.9715}}"
      ]
     },
     "execution_count": 35,
     "metadata": {
      "text/html": [],
      "text/plain": []
     },
     "output_type": "execute_result"
    }
   ],
   "source": [
    "rmax = FindRoot[soln[[#]]==0, {x, 2}] & /@ Range[1, 5]"
   ]
  }
 ],
 "metadata": {
  "author": "mes 10^{26",
  "kernelspec": {
   "display_name": "Wolfram Language 12",
   "language": "Wolfram Language",
   "name": "wolframlanguage12"
  },
  "language_info": {
   "codemirror_mode": "mathematica",
   "file_extension": ".m",
   "mimetype": "application/vnd.wolfram.m",
   "name": "Wolfram Language",
   "pygments_lexer": "mathematica",
   "version": "12.0"
  },
  "latex_envs": {
   "LaTeX_envs_menu_present": true,
   "autoclose": false,
   "autocomplete": true,
   "bibliofile": "biblio.bib",
   "cite_by": "apalike",
   "current_citInitial": 1,
   "eqLabelWithNumbers": true,
   "eqNumInitial": 1,
   "hotkeys": {
    "equation": "Ctrl-E",
    "itemize": "Ctrl-I"
   },
   "labels_anchors": false,
   "latex_user_defs": false,
   "report_style_numbering": false,
   "user_envs_cfg": false
  }
 },
 "nbformat": 4,
 "nbformat_minor": 4
}
