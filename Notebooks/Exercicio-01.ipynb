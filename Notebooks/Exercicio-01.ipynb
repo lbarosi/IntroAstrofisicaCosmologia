{
 "cells": [
  {
   "cell_type": "markdown",
   "metadata": {},
   "source": [
    "<p><img src=\"../IMAGES/Logo-UFCG.png\" width=\"80\" ></p>\n",
    "\n",
    "# Introdução à Astrofísica e Cosmologia\n",
    "\n",
    "## Exercício 1: Entendendo Coordenadas Celestes\n",
    "\n",
    "**Luciano Barosi**"
   ]
  },
  {
   "cell_type": "markdown",
   "metadata": {},
   "source": [
    "**Observação:** Não existe um fim para este exercício, vocês devem procurar fazer tanto quanto for possível. A nota levara em conta o quão longe vocês foram."
   ]
  },
  {
   "cell_type": "markdown",
   "metadata": {},
   "source": [
    "**[Fast Radio Bursts](!https://en.wikipedia.org/wiki/Fast_radio_burst)** (rajadas rápidas de rádio) são objetos recentes e muito misteriosos. Temos uma pequena amostra deles já detectada, mas os telescópios que estão sendo construídos agora, como o **BINGO** vão poder detectar muito mais e poderemos avançar no entendimento destes objetos.\n",
    "\n",
    "Existe um [catálogo](http://frbcat.org/) acessível de FRBs. Baixe o arquivo em formato CSV.\n"
   ]
  },
  {
   "cell_type": "markdown",
   "metadata": {
    "ExecuteTime": {
     "end_time": "2020-03-12T19:32:48.564284Z",
     "start_time": "2020-03-12T19:32:48.561494Z"
    }
   },
   "source": [
    "### Instruções:\n",
    "\n",
    "1. Faça o download do catálogo de csv.\n",
    "2. Faça um gráfico de todos eles, em coordenadas galácticas usando a projeção *mollweide*.\n",
    "3. Faça um gráfico bonito, com título, coordenadas, grid e anotações, se quiser. Pode colocar cada FRB com uma cor diferente dependendo de qual equipamento o descobriu, ou você pode fazer uma escala do azul para o vermelho utilizando a variável **DM** que é a medida de dispersão e está associada a distância do FRB.\n",
    "4. Faça a mesma coisa em coordenadas equatoriais.\n",
    "5. Faça a mesma coisa em coordenadas horizontais, escolhendo um lugar específico e uma hora específica.\n",
    "6. Nos três gráficos acima, adicione alguns objetos que estão em nossa galáxia, para que possamos discernir onde ela está e vermos se existe alguma relação entre a galáxia e as posições dos FRBs. Adicione em todos os gráficos\n",
    "7. Escolha costelações ou Estrelas que você adora para plotar junto. Adicione em todos os gráficos.\n",
    "8. Junte todos os gráficos em um display só e salve no formato PNG.\n",
    "9. Faça o upload da imagem no diretório Alunos/Exercicios/[Seunome] \n",
    "10. Faça o upload do seu código no diretório Alunos/Exercicios/[SeuNome]"
   ]
  }
 ],
 "metadata": {
  "hide_input": false,
  "kernelspec": {
   "display_name": "cursos(3)",
   "language": "python",
   "name": "cursos"
  },
  "language_info": {
   "codemirror_mode": {
    "name": "ipython",
    "version": 3
   },
   "file_extension": ".py",
   "mimetype": "text/x-python",
   "name": "python",
   "nbconvert_exporter": "python",
   "pygments_lexer": "ipython3",
   "version": "3.7.7"
  },
  "latex_envs": {
   "LaTeX_envs_menu_present": true,
   "autoclose": false,
   "autocomplete": true,
   "bibliofile": "biblio.bib",
   "cite_by": "apalike",
   "current_citInitial": 1,
   "eqLabelWithNumbers": true,
   "eqNumInitial": 1,
   "hotkeys": {
    "equation": "Ctrl-E",
    "itemize": "Ctrl-I"
   },
   "labels_anchors": false,
   "latex_user_defs": false,
   "report_style_numbering": false,
   "user_envs_cfg": false
  }
 },
 "nbformat": 4,
 "nbformat_minor": 4
}
